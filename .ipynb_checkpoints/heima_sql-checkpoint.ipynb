{
 "cells": [
  {
   "cell_type": "code",
   "execution_count": 1,
   "id": "007a38da",
   "metadata": {},
   "outputs": [],
   "source": [
    "from pyspark.sql import SparkSession\n",
    "import findspark\n",
    "findspark.init()"
   ]
  },
  {
   "cell_type": "code",
   "execution_count": 2,
   "id": "8d914fe7",
   "metadata": {},
   "outputs": [],
   "source": [
    "spark = SparkSession.builder.\\\n",
    "        appName(\"test\").\\\n",
    "        master('local[*]').getOrCreate()\n",
    "sc = spark.sparkContext"
   ]
  },
  {
   "cell_type": "code",
   "execution_count": 6,
   "id": "28632a9b",
   "metadata": {},
   "outputs": [],
   "source": [
    "rdd = sc.textFile(\"./people.txt\").map(lambda x: x.split(\", \")).\\\n",
    "        map(lambda x: (x[0], int(x[1])))"
   ]
  },
  {
   "cell_type": "markdown",
   "id": "73533dc3",
   "metadata": {},
   "source": [
    "# 自动判别字段类型"
   ]
  },
  {
   "cell_type": "code",
   "execution_count": 8,
   "id": "4e7f9e3a",
   "metadata": {},
   "outputs": [],
   "source": [
    "df = spark.createDataFrame(rdd, schema=['name', 'age'])"
   ]
  },
  {
   "cell_type": "code",
   "execution_count": 9,
   "id": "ad09b8f9",
   "metadata": {},
   "outputs": [
    {
     "name": "stdout",
     "output_type": "stream",
     "text": [
      "root\n",
      " |-- name: string (nullable = true)\n",
      " |-- age: long (nullable = true)\n",
      "\n"
     ]
    }
   ],
   "source": [
    "df.printSchema()"
   ]
  },
  {
   "cell_type": "code",
   "execution_count": 10,
   "id": "11f8c66a",
   "metadata": {},
   "outputs": [
    {
     "name": "stdout",
     "output_type": "stream",
     "text": [
      "+-------+---+\n",
      "|   name|age|\n",
      "+-------+---+\n",
      "|Michael| 29|\n",
      "|   Andy| 30|\n",
      "| Justin| 16|\n",
      "+-------+---+\n",
      "\n"
     ]
    }
   ],
   "source": [
    "df.show(10)"
   ]
  },
  {
   "cell_type": "code",
   "execution_count": 11,
   "id": "006ded05",
   "metadata": {},
   "outputs": [],
   "source": [
    "df.createTempView('people')"
   ]
  },
  {
   "cell_type": "code",
   "execution_count": 16,
   "id": "09fbe1f3",
   "metadata": {},
   "outputs": [
    {
     "name": "stdout",
     "output_type": "stream",
     "text": [
      "+-------+---+\n",
      "|   name|age|\n",
      "+-------+---+\n",
      "|Michael| 29|\n",
      "| Justin| 16|\n",
      "+-------+---+\n",
      "\n"
     ]
    }
   ],
   "source": [
    "spark.sql('SELECT * FROM people WHERE age < 30').show()"
   ]
  },
  {
   "cell_type": "markdown",
   "id": "b1c88be0",
   "metadata": {},
   "source": [
    "# 使用StructType构建DataFrame表"
   ]
  },
  {
   "cell_type": "code",
   "execution_count": 18,
   "id": "37e14342",
   "metadata": {},
   "outputs": [],
   "source": [
    "from pyspark.sql.types import StructType, StringType, IntegerType"
   ]
  },
  {
   "cell_type": "code",
   "execution_count": 20,
   "id": "01aaaae0",
   "metadata": {},
   "outputs": [],
   "source": [
    "schema = StructType().add(\"name\", StringType(), True).\\\n",
    "            add(\"age\", IntegerType(), False)"
   ]
  },
  {
   "cell_type": "code",
   "execution_count": 21,
   "id": "784f50ab",
   "metadata": {},
   "outputs": [],
   "source": [
    "df = spark.createDataFrame(rdd, schema=schema)"
   ]
  },
  {
   "cell_type": "code",
   "execution_count": 22,
   "id": "e5c6fdf8",
   "metadata": {},
   "outputs": [
    {
     "name": "stdout",
     "output_type": "stream",
     "text": [
      "+-------+---+\n",
      "|   name|age|\n",
      "+-------+---+\n",
      "|Michael| 29|\n",
      "|   Andy| 30|\n",
      "| Justin| 16|\n",
      "+-------+---+\n",
      "\n"
     ]
    }
   ],
   "source": [
    "df.show()"
   ]
  },
  {
   "cell_type": "code",
   "execution_count": 23,
   "id": "403aa5dc",
   "metadata": {},
   "outputs": [
    {
     "name": "stdout",
     "output_type": "stream",
     "text": [
      "root\n",
      " |-- name: string (nullable = true)\n",
      " |-- age: integer (nullable = false)\n",
      "\n"
     ]
    }
   ],
   "source": [
    "df.printSchema()"
   ]
  },
  {
   "cell_type": "markdown",
   "id": "764250fc",
   "metadata": {},
   "source": [
    "# 使用RDD的toDF方法转换"
   ]
  },
  {
   "cell_type": "code",
   "execution_count": 26,
   "id": "7694f750",
   "metadata": {},
   "outputs": [],
   "source": [
    "df = rdd.toDF(schema=schema)"
   ]
  },
  {
   "cell_type": "code",
   "execution_count": 27,
   "id": "d809839c",
   "metadata": {},
   "outputs": [
    {
     "name": "stdout",
     "output_type": "stream",
     "text": [
      "+-------+---+\n",
      "|   name|age|\n",
      "+-------+---+\n",
      "|Michael| 29|\n",
      "|   Andy| 30|\n",
      "| Justin| 16|\n",
      "+-------+---+\n",
      "\n"
     ]
    }
   ],
   "source": [
    "df.show()"
   ]
  },
  {
   "cell_type": "markdown",
   "id": "859f5d4a",
   "metadata": {},
   "source": [
    "# 源数据来自于Pandas的DataFrame"
   ]
  },
  {
   "cell_type": "code",
   "execution_count": 28,
   "id": "9fbcbb78",
   "metadata": {},
   "outputs": [],
   "source": [
    "import pandas as pd"
   ]
  },
  {
   "cell_type": "code",
   "execution_count": 31,
   "id": "2a52874e",
   "metadata": {},
   "outputs": [],
   "source": [
    "df_pd = pd.DataFrame({\n",
    "    \"id\": [1, 2, 3],\n",
    "    \"name\": ['Jack', 'Justin', 'Ala'],\n",
    "    \"age\": [11, 13 ,14]\n",
    "})"
   ]
  },
  {
   "cell_type": "code",
   "execution_count": 34,
   "id": "8f23f2c8",
   "metadata": {},
   "outputs": [],
   "source": [
    "df = spark.createDataFrame(df_pd, schema=['id', 'name', 'age'])"
   ]
  },
  {
   "cell_type": "code",
   "execution_count": 35,
   "id": "d60ebd54",
   "metadata": {},
   "outputs": [
    {
     "name": "stdout",
     "output_type": "stream",
     "text": [
      "+---+------+---+\n",
      "| id|  name|age|\n",
      "+---+------+---+\n",
      "|  1|  Jack| 11|\n",
      "|  2|Justin| 13|\n",
      "|  3|   Ala| 14|\n",
      "+---+------+---+\n",
      "\n"
     ]
    }
   ],
   "source": [
    "df.show()"
   ]
  },
  {
   "cell_type": "markdown",
   "id": "15091e93",
   "metadata": {},
   "source": [
    "# 统一API从文件读取"
   ]
  },
  {
   "cell_type": "code",
   "execution_count": 49,
   "id": "59fc776a",
   "metadata": {},
   "outputs": [],
   "source": [
    "schema = StructType().add(\"value\", StringType(), True) # text文件\n",
    "df = spark.read.format(\"text\").schema(schema=schema).load(\"./people.txt\")"
   ]
  },
  {
   "cell_type": "code",
   "execution_count": 50,
   "id": "7d41d0e5",
   "metadata": {},
   "outputs": [
    {
     "name": "stdout",
     "output_type": "stream",
     "text": [
      "+-----------+\n",
      "|      value|\n",
      "+-----------+\n",
      "|Michael, 29|\n",
      "|   Andy, 30|\n",
      "| Justin, 16|\n",
      "+-----------+\n",
      "\n"
     ]
    }
   ],
   "source": [
    "df.show()"
   ]
  },
  {
   "cell_type": "code",
   "execution_count": 51,
   "id": "6978ef5c",
   "metadata": {},
   "outputs": [
    {
     "name": "stdout",
     "output_type": "stream",
     "text": [
      "root\n",
      " |-- age: long (nullable = true)\n",
      " |-- name: string (nullable = true)\n",
      "\n",
      "+----+-------+\n",
      "| age|   name|\n",
      "+----+-------+\n",
      "|null|Michael|\n",
      "|  14|   Mike|\n",
      "|  18|   Mike|\n",
      "+----+-------+\n",
      "\n"
     ]
    }
   ],
   "source": [
    "df = spark.read.format(\"json\").load(\"./people.json\")  # json文件\n",
    "df.printSchema()\n",
    "df.show()"
   ]
  },
  {
   "cell_type": "code",
   "execution_count": null,
   "id": "2ed25ee3",
   "metadata": {},
   "outputs": [],
   "source": [
    "schema = StructType().add(\"name\", StringType(), True).\\\n",
    "            add(\"age\", IntegerType(), False).add(\"job\", StringType(), False)\n",
    "df = spark.read.format(\"csv\").option(\"sep\", \";\").\\\n",
    "    option(\"header\", True).option(\"encoding\", \"utf-8\").\\\n",
    "    schema(schema).load(\"./people.csv\")"
   ]
  },
  {
   "cell_type": "code",
   "execution_count": null,
   "id": "326081a2",
   "metadata": {},
   "outputs": [],
   "source": []
  },
  {
   "cell_type": "code",
   "execution_count": null,
   "id": "ff0a5b7c",
   "metadata": {},
   "outputs": [],
   "source": []
  }
 ],
 "metadata": {
  "kernelspec": {
   "display_name": "Python 3 (ipykernel)",
   "language": "python",
   "name": "python3"
  },
  "language_info": {
   "codemirror_mode": {
    "name": "ipython",
    "version": 3
   },
   "file_extension": ".py",
   "mimetype": "text/x-python",
   "name": "python",
   "nbconvert_exporter": "python",
   "pygments_lexer": "ipython3",
   "version": "3.7.1"
  }
 },
 "nbformat": 4,
 "nbformat_minor": 5
}
