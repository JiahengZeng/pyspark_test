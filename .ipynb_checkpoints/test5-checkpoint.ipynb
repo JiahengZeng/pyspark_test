{
 "cells": [
  {
   "cell_type": "code",
   "execution_count": 1,
   "id": "989ab6ee",
   "metadata": {},
   "outputs": [],
   "source": [
    "import pyspark\n",
    "from pyspark import SparkContext, SparkConf\n",
    "import findspark\n",
    "findspark.init()\n",
    "conf = SparkConf().setAppName('test5').setMaster('local[4]')\n",
    "sc = SparkContext(conf=conf)"
   ]
  },
  {
   "cell_type": "code",
   "execution_count": 2,
   "id": "a4dfa258",
   "metadata": {},
   "outputs": [
    {
     "data": {
      "text/plain": [
       "[[0, 1, 2, 3, 4], [5, 6, 7, 8, 9]]"
      ]
     },
     "execution_count": 2,
     "metadata": {},
     "output_type": "execute_result"
    }
   ],
   "source": [
    "# glom\n",
    "rdd = sc.parallelize(range(10), 2)\n",
    "# 将每个分区的元素转换为列表  如果纯collect则返回在同一个列表中\n",
    "rdd.glom().collect()"
   ]
  },
  {
   "cell_type": "code",
   "execution_count": 3,
   "id": "892a95f2",
   "metadata": {},
   "outputs": [
    {
     "data": {
      "text/plain": [
       "[[0, 1, 2], [3, 4, 5], [6, 7, 8, 9]]"
      ]
     },
     "execution_count": 3,
     "metadata": {},
     "output_type": "execute_result"
    }
   ],
   "source": [
    "# coalesce 重置分区数量\n",
    "rdd = sc.parallelize(range(10), 3)\n",
    "rdd.glom().collect()"
   ]
  },
  {
   "cell_type": "code",
   "execution_count": 4,
   "id": "fcc82bd1",
   "metadata": {},
   "outputs": [
    {
     "data": {
      "text/plain": [
       "[[0, 1, 2], [3, 4, 5, 6, 7, 8, 9]]"
      ]
     },
     "execution_count": 4,
     "metadata": {},
     "output_type": "execute_result"
    }
   ],
   "source": [
    "rdd_new = rdd.coalesce(2, shuffle=False)  # shuffle为True是增加， False是减少\n",
    "rdd_new.glom().collect()"
   ]
  },
  {
   "cell_type": "code",
   "execution_count": 5,
   "id": "5eae50a6",
   "metadata": {},
   "outputs": [
    {
     "data": {
      "text/plain": [
       "[[6, 7, 8, 9], [3, 4, 5], [], [0, 1, 2]]"
      ]
     },
     "execution_count": 5,
     "metadata": {},
     "output_type": "execute_result"
    }
   ],
   "source": [
    "# repartition  和上一个函数coalesce差不多，不需要shuffle参数\n",
    "rdd1 = sc.parallelize(range(10), 3)\n",
    "rdd2 = sc.parallelize([(\"a\", 1), (\"a\", 2), (\"a\", 3), (\"c\", 4)])\n",
    "rdd1.repartition(4).glom().collect()"
   ]
  },
  {
   "cell_type": "code",
   "execution_count": 6,
   "id": "fc6ac4de",
   "metadata": {},
   "outputs": [
    {
     "data": {
      "text/plain": [
       "[[('a', 1), ('a', 3), ('c', 4)], [('a', 2)]]"
      ]
     },
     "execution_count": 6,
     "metadata": {},
     "output_type": "execute_result"
    }
   ],
   "source": [
    "rdd2.repartition(2).glom().collect()  # 相同的key不一定在同一个分区"
   ]
  },
  {
   "cell_type": "code",
   "execution_count": 7,
   "id": "17d17a9a",
   "metadata": {},
   "outputs": [
    {
     "data": {
      "text/plain": [
       "[[('c', 4)], [('a', 1), ('a', 2), ('a', 3)]]"
      ]
     },
     "execution_count": 7,
     "metadata": {},
     "output_type": "execute_result"
    }
   ],
   "source": [
    "# partitionBy\n",
    "rdd2.partitionBy(2).glom().collect()"
   ]
  },
  {
   "cell_type": "code",
   "execution_count": 8,
   "id": "854852df",
   "metadata": {},
   "outputs": [
    {
     "data": {
      "text/plain": [
       "[10, 35]"
      ]
     },
     "execution_count": 8,
     "metadata": {},
     "output_type": "execute_result"
    }
   ],
   "source": [
    "# mapPartitions 对每一个分区应用一个函数，如求和，必须使用yield关键字返回迭代器\n",
    "rdd = sc.parallelize(range(10), 2)\n",
    "def func(x): yield sum(x)\n",
    "rdd.mapPartitions(func).collect()"
   ]
  },
  {
   "cell_type": "code",
   "execution_count": 9,
   "id": "890a1ad0",
   "metadata": {},
   "outputs": [
    {
     "data": {
      "text/plain": [
       "[(0, 10), (1, 35)]"
      ]
     },
     "execution_count": 9,
     "metadata": {},
     "output_type": "execute_result"
    }
   ],
   "source": [
    "# mapPartitionsWithIndex\n",
    "def func(i, x): yield i, sum(x)\n",
    "rdd.mapPartitionsWithIndex(func).collect()"
   ]
  },
  {
   "cell_type": "code",
   "execution_count": 11,
   "id": "83e8c4a8",
   "metadata": {},
   "outputs": [
    {
     "data": {
      "text/plain": [
       "[[(0, 1), (0, 4), (2, 6)], [(1, 3), (3, 2), (3, 5)]]"
      ]
     },
     "execution_count": 11,
     "metadata": {},
     "output_type": "execute_result"
    }
   ],
   "source": [
    "# repartitionAndSortWithinPartitions\n",
    "rdd = sc.parallelize([(0,1), (3, 2), (1, 3), (0, 4), (3, 5), (2, 6)])\n",
    "rdd_new = rdd.repartitionAndSortWithinPartitions(\n",
    "numPartitions=2,\n",
    "partitionFunc=lambda x: x% 2,\n",
    "ascending=True)\n",
    "rdd_new.glom().collect()"
   ]
  },
  {
   "cell_type": "code",
   "execution_count": 12,
   "id": "02c3a038",
   "metadata": {},
   "outputs": [
    {
     "data": {
      "text/plain": [
       "[[0, 1, 2, 3, 4], [5, 6, 7, 8, 9]]"
      ]
     },
     "execution_count": 12,
     "metadata": {},
     "output_type": "execute_result"
    }
   ],
   "source": [
    "# foreachPartitions\n",
    "rdd = sc.parallelize(range(10), 2)\n",
    "rdd.glom().collect()"
   ]
  },
  {
   "cell_type": "code",
   "execution_count": 13,
   "id": "9ba4e25c",
   "metadata": {},
   "outputs": [
    {
     "data": {
      "text/plain": [
       "45"
      ]
     },
     "execution_count": 13,
     "metadata": {},
     "output_type": "execute_result"
    }
   ],
   "source": [
    "acc = sc.accumulator(value=0)\n",
    "def func(x): acc.add(sum(x))\n",
    "rdd.foreachPartition(func)\n",
    "acc.value"
   ]
  },
  {
   "cell_type": "code",
   "execution_count": 14,
   "id": "7c50e2c3",
   "metadata": {},
   "outputs": [
    {
     "data": {
      "text/plain": [
       "[[1, 2, 3], [4, 5, 6], [7, 8, 9]]"
      ]
     },
     "execution_count": 14,
     "metadata": {},
     "output_type": "execute_result"
    }
   ],
   "source": [
    "# aggregate\n",
    "rdd = sc.parallelize(range(1, 10), 3)\n",
    "rdd.glom().collect()"
   ]
  },
  {
   "cell_type": "code",
   "execution_count": 15,
   "id": "d48f907e",
   "metadata": {},
   "outputs": [
    {
     "data": {
      "text/plain": [
       "(45, 9)"
      ]
     },
     "execution_count": 15,
     "metadata": {},
     "output_type": "execute_result"
    }
   ],
   "source": [
    "seqOp = (lambda x, y: (x[0] + y, x[1] + 1))\n",
    "combOp = (lambda x, y: (x[0]+y[0], x[1]+y[1]))\n",
    "rdd.aggregate(zeroValue=(0, 0), seqOp=seqOp, combOp=combOp)"
   ]
  },
  {
   "cell_type": "code",
   "execution_count": 17,
   "id": "5f577e62",
   "metadata": {},
   "outputs": [
    {
     "data": {
      "text/plain": [
       "[('orange', 3), ('banana', 5)]"
      ]
     },
     "execution_count": 17,
     "metadata": {},
     "output_type": "execute_result"
    }
   ],
   "source": [
    "# aggregateByKey 高性能算子，执行效率高\n",
    "rdd = sc.parallelize([(\"orange\", 1), (\"orange\", 2), (\"orange\", 3), (\"banana\", 1), \n",
    "                    (\"banana\", 4), (\"banana\", 5)], 2)\n",
    "rdd_new = rdd.aggregateByKey(zeroValue=0, seqFunc=lambda x, y:max(x,y),\n",
    "                            combFunc=lambda x, y:max(x,y))\n",
    "rdd_new.collect()"
   ]
  },
  {
   "cell_type": "code",
   "execution_count": null,
   "id": "b0f33222",
   "metadata": {},
   "outputs": [],
   "source": []
  }
 ],
 "metadata": {
  "kernelspec": {
   "display_name": "Python 3 (ipykernel)",
   "language": "python",
   "name": "python3"
  },
  "language_info": {
   "codemirror_mode": {
    "name": "ipython",
    "version": 3
   },
   "file_extension": ".py",
   "mimetype": "text/x-python",
   "name": "python",
   "nbconvert_exporter": "python",
   "pygments_lexer": "ipython3",
   "version": "3.7.1"
  }
 },
 "nbformat": 4,
 "nbformat_minor": 5
}
