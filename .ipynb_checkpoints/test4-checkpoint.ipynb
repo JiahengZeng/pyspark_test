{
 "cells": [
  {
   "cell_type": "code",
   "execution_count": 1,
   "id": "8198d8e0",
   "metadata": {},
   "outputs": [],
   "source": [
    "import pyspark\n",
    "from pyspark import SparkContext, SparkConf\n",
    "import findspark\n",
    "findspark.init()\n",
    "conf = SparkConf().setAppName('test3').setMaster('local[4]')\n",
    "sc = SparkContext(conf=conf)"
   ]
  },
  {
   "cell_type": "markdown",
   "id": "7739e640",
   "metadata": {},
   "source": [
    "# pairRDD变换算子"
   ]
  },
  {
   "cell_type": "markdown",
   "id": "ec98b81b",
   "metadata": {},
   "source": [
    "#### 包含key和value的RDD，类似于字典"
   ]
  },
  {
   "cell_type": "code",
   "execution_count": 2,
   "id": "ef4c0a88",
   "metadata": {},
   "outputs": [
    {
     "data": {
      "text/plain": [
       "[(1, 'a'), (1, 'b'), (1, 'c')]"
      ]
     },
     "execution_count": 2,
     "metadata": {},
     "output_type": "execute_result"
    }
   ],
   "source": [
    "rdd = sc.parallelize([\"a\", \"b\", \"c\"])\n",
    "rdd.keyBy(lambda x: 1).collect()"
   ]
  },
  {
   "cell_type": "code",
   "execution_count": 3,
   "id": "02e0d6a8",
   "metadata": {},
   "outputs": [],
   "source": [
    "# lookup\n",
    "rdd_1 = sc.parallelize([(\"python\", 1), (\"python\", 2), (\"pandas\", 3), (\"pandas\", 4)])"
   ]
  },
  {
   "cell_type": "code",
   "execution_count": 4,
   "id": "da014643",
   "metadata": {},
   "outputs": [
    {
     "data": {
      "text/plain": [
       "['python', 'python', 'pandas', 'pandas']"
      ]
     },
     "execution_count": 4,
     "metadata": {},
     "output_type": "execute_result"
    }
   ],
   "source": [
    "rdd_1.keys().collect()"
   ]
  },
  {
   "cell_type": "code",
   "execution_count": 5,
   "id": "6132ef7f",
   "metadata": {},
   "outputs": [
    {
     "data": {
      "text/plain": [
       "[1, 2, 3, 4]"
      ]
     },
     "execution_count": 5,
     "metadata": {},
     "output_type": "execute_result"
    }
   ],
   "source": [
    "rdd_1.values().collect()"
   ]
  },
  {
   "cell_type": "code",
   "execution_count": 6,
   "id": "61557496",
   "metadata": {},
   "outputs": [
    {
     "data": {
      "text/plain": [
       "[1, 2]"
      ]
     },
     "execution_count": 6,
     "metadata": {},
     "output_type": "execute_result"
    }
   ],
   "source": [
    "# lookup是动作算子\n",
    "rdd_1.lookup(\"python\")"
   ]
  },
  {
   "cell_type": "code",
   "execution_count": 7,
   "id": "9e9e943e",
   "metadata": {},
   "outputs": [
    {
     "data": {
      "text/plain": [
       "[('python', 3), ('pandas', 7)]"
      ]
     },
     "execution_count": 7,
     "metadata": {},
     "output_type": "execute_result"
    }
   ],
   "source": [
    "# 以key分组对value进行二元“归并”的操作 返回嵌套的元组列表\n",
    "rdd_1.reduceByKey(lambda x, y: x+y).collect()"
   ]
  },
  {
   "cell_type": "code",
   "execution_count": 12,
   "id": "b298c1fc",
   "metadata": {},
   "outputs": [
    {
     "data": {
      "text/plain": [
       "{'python': 3, 'pandas': 7}"
      ]
     },
     "execution_count": 12,
     "metadata": {},
     "output_type": "execute_result"
    }
   ],
   "source": [
    "# reduceByKeyLocally 返回python的字典\n",
    "dct = rdd_1.reduceByKeyLocally(lambda x, y: x+y)\n",
    "dct"
   ]
  },
  {
   "cell_type": "code",
   "execution_count": 13,
   "id": "94081cb8",
   "metadata": {},
   "outputs": [
    {
     "data": {
      "text/plain": [
       "[('python', 3), ('pandas', 7)]"
      ]
     },
     "execution_count": 13,
     "metadata": {},
     "output_type": "execute_result"
    }
   ],
   "source": [
    "# foldByKey 以key分组并按照指定函数(add加法)合并value\n",
    "# fold折叠，必须传递zeroValue的初始值，\n",
    "from operator import add\n",
    "rdd_1.foldByKey(0, add).collect()"
   ]
  },
  {
   "cell_type": "code",
   "execution_count": 16,
   "id": "f911be18",
   "metadata": {},
   "outputs": [
    {
     "data": {
      "text/plain": [
       "[('python', [1, 2]), ('pandas', [3, 4])]"
      ]
     },
     "execution_count": 16,
     "metadata": {},
     "output_type": "execute_result"
    }
   ],
   "source": [
    "# combineByKey 以key分组按照指定函数合并value，合并后返回列表\n",
    "# createCombiner, 将value转换为列表\n",
    "# mergeValue 将value添加至列表\n",
    "# mergeCombiners， 将多个列表合并为同一个列表\n",
    "def to_list(x):\n",
    "    return [x]\n",
    "def append(x, y):\n",
    "    x.append(y)\n",
    "    return x\n",
    "def extend(x, y):\n",
    "    x.extend(y)\n",
    "    return x\n",
    "rdd_1.combineByKey(to_list, append, extend).collect()"
   ]
  },
  {
   "cell_type": "code",
   "execution_count": 18,
   "id": "2d99c905",
   "metadata": {},
   "outputs": [
    {
     "data": {
      "text/plain": [
       "[('b', 2), ('c', 3)]"
      ]
     },
     "execution_count": 18,
     "metadata": {},
     "output_type": "execute_result"
    }
   ],
   "source": [
    "# subtractByKey  只考虑key做差集\n",
    "x = sc.parallelize([(\"a\", 1), (\"b\", 2), (\"c\", 3)])\n",
    "y = sc.parallelize([(\"a\", 2)])\n",
    "x.subtractByKey(y).collect()"
   ]
  },
  {
   "cell_type": "code",
   "execution_count": 19,
   "id": "f1acb5d0",
   "metadata": {},
   "outputs": [
    {
     "data": {
      "text/plain": [
       "generator"
      ]
     },
     "execution_count": 19,
     "metadata": {},
     "output_type": "execute_result"
    }
   ],
   "source": [
    "# 生成器可以当作迭代器\n",
    "rdd = sc.parallelize(range(10))\n",
    "iterator = rdd.toLocalIterator()\n",
    "type(iterator)"
   ]
  },
  {
   "cell_type": "code",
   "execution_count": 21,
   "id": "39d4ad0a",
   "metadata": {},
   "outputs": [
    {
     "data": {
      "text/plain": [
       "[[0, [0, 3, 6, 9]], [1, [1, 4, 7]], [2, [2, 5, 8]]]"
      ]
     },
     "execution_count": 21,
     "metadata": {},
     "output_type": "execute_result"
    }
   ],
   "source": [
    "# groupBy ：以函数返回值分组合并，合并后返回迭代器\n",
    "# 以返回值为key，值放在迭代器中作为value\n",
    "rdd_new = rdd.groupBy(lambda x: x % 3).collect()\n",
    "[[x, list(y)] for x, y in rdd_new]"
   ]
  },
  {
   "cell_type": "code",
   "execution_count": 24,
   "id": "2d656ac7",
   "metadata": {},
   "outputs": [
    {
     "data": {
      "text/plain": [
       "[['python', [1, 2]], ['pandas', [3, 4]]]"
      ]
     },
     "execution_count": 24,
     "metadata": {},
     "output_type": "execute_result"
    }
   ],
   "source": [
    "# groupByKey  按照key分组\n",
    "rdd_new = rdd_1.groupByKey().collect()\n",
    "[[x, list(y)] for x, y in rdd_new]"
   ]
  },
  {
   "cell_type": "code",
   "execution_count": 26,
   "id": "8519c0b4",
   "metadata": {},
   "outputs": [
    {
     "data": {
      "text/plain": [
       "[('python', 3), ('pandas', 7)]"
      ]
     },
     "execution_count": 26,
     "metadata": {},
     "output_type": "execute_result"
    }
   ],
   "source": [
    "# mapValues\n",
    "rdd = sc.parallelize([(\"python\", [1,2]), (\"pandas\", [3, 4])])\n",
    "rdd.mapValues(sum).collect()"
   ]
  },
  {
   "cell_type": "code",
   "execution_count": 27,
   "id": "51cf3cad",
   "metadata": {},
   "outputs": [
    {
     "data": {
      "text/plain": [
       "[(0, [0, 2, 4, 6, 8]), (1, [1, 3, 5, 7, 9])]"
      ]
     },
     "execution_count": 27,
     "metadata": {},
     "output_type": "execute_result"
    }
   ],
   "source": [
    "# groupBy + mapValues\n",
    "rdd = sc.parallelize(range(10))\n",
    "rdd.groupBy(lambda x: x %2).mapValues(list).collect()"
   ]
  },
  {
   "cell_type": "code",
   "execution_count": 28,
   "id": "7b031abd",
   "metadata": {},
   "outputs": [
    {
     "data": {
      "text/plain": [
       "[('python', [1, 2]), ('pandas', [3, 4])]"
      ]
     },
     "execution_count": 28,
     "metadata": {},
     "output_type": "execute_result"
    }
   ],
   "source": [
    "# groupByKey + mapValues\n",
    "rdd = sc.parallelize([(\"python\", 1), (\"python\", 2), (\"pandas\", 3), (\"pandas\", 4)])\n",
    "rdd.groupByKey().mapValues(list).collect()"
   ]
  },
  {
   "cell_type": "code",
   "execution_count": 29,
   "id": "0cd62a78",
   "metadata": {},
   "outputs": [
    {
     "data": {
      "text/plain": [
       "[('python', 3), ('pandas', 7)]"
      ]
     },
     "execution_count": 29,
     "metadata": {},
     "output_type": "execute_result"
    }
   ],
   "source": [
    "rdd.groupByKey().mapValues(sum).collect()"
   ]
  },
  {
   "cell_type": "code",
   "execution_count": 30,
   "id": "92351812",
   "metadata": {},
   "outputs": [
    {
     "data": {
      "text/plain": [
       "[('python', 2), ('pandas', 4)]"
      ]
     },
     "execution_count": 30,
     "metadata": {},
     "output_type": "execute_result"
    }
   ],
   "source": [
    "rdd.groupByKey().mapValues(max).collect()"
   ]
  },
  {
   "cell_type": "code",
   "execution_count": 34,
   "id": "b3a92b6d",
   "metadata": {},
   "outputs": [
    {
     "data": {
      "text/plain": [
       "defaultdict(int, {'python': 2, 'pandas': 2})"
      ]
     },
     "execution_count": 34,
     "metadata": {},
     "output_type": "execute_result"
    }
   ],
   "source": [
    "# countByKey 以key分组计数\n",
    "rdd.countByKey()  #.items()"
   ]
  },
  {
   "cell_type": "code",
   "execution_count": 36,
   "id": "5a2ce766",
   "metadata": {},
   "outputs": [
    {
     "data": {
      "text/plain": [
       "dict_items([((1, 1), 2), ((3, 4), 1), ((2, 1), 1)])"
      ]
     },
     "execution_count": 36,
     "metadata": {},
     "output_type": "execute_result"
    }
   ],
   "source": [
    "# countByValue\n",
    "rdd1 = sc.parallelize([(1, 1), (1, 1), (3, 4), (2, 1)])\n",
    "rdd2 = sc.parallelize([1, 2, 2, 3, 3, 3])\n",
    "rdd1.countByValue().items() # 以元组计数"
   ]
  },
  {
   "cell_type": "code",
   "execution_count": 37,
   "id": "29b7bcb6",
   "metadata": {},
   "outputs": [
    {
     "data": {
      "text/plain": [
       "dict_items([(1, 1), (2, 2), (3, 3)])"
      ]
     },
     "execution_count": 37,
     "metadata": {},
     "output_type": "execute_result"
    }
   ],
   "source": [
    "rdd2.countByValue().items() # 以值计数"
   ]
  },
  {
   "cell_type": "code",
   "execution_count": 40,
   "id": "41f30cbe",
   "metadata": {},
   "outputs": [
    {
     "data": {
      "text/plain": [
       "[['a', [[1, 3], [4]]], ['b', [[2], [5, 6]]]]"
      ]
     },
     "execution_count": 40,
     "metadata": {},
     "output_type": "execute_result"
    }
   ],
   "source": [
    "# cogroup 先对两个RDD分别进行groupByKey，然后对合并结果groupByKey\n",
    "x = sc.parallelize([(\"a\", 1), (\"b\", 2), (\"a\", 3)])\n",
    "y = sc.parallelize([(\"a\", 4), (\"b\", 5), (\"b\", 6)])\n",
    "# x.cogroup(y).mapValues(list).collect()\n",
    "[[x, [list(z) for z in y]] for x, y in x.cogroup(y).collect()]"
   ]
  },
  {
   "cell_type": "code",
   "execution_count": 41,
   "id": "7471cbc7",
   "metadata": {},
   "outputs": [
    {
     "data": {
      "text/plain": [
       "[('pandas', 3), ('pandas', 4), ('python', 1), ('python', 2)]"
      ]
     },
     "execution_count": 41,
     "metadata": {},
     "output_type": "execute_result"
    }
   ],
   "source": [
    "# sortByKey 按key进行排序   比如按照日期sort\n",
    "rdd = sc.parallelize([(\"python\", 1), (\"python\", 2), (\"pandas\", 3), (\"pandas\", 4)])\n",
    "rdd.sortByKey().collect()"
   ]
  },
  {
   "cell_type": "code",
   "execution_count": 42,
   "id": "e22f97ca",
   "metadata": {},
   "outputs": [
    {
     "data": {
      "text/plain": [
       "[('apple', 0),\n",
       " ('apple', 1),\n",
       " ('apple', 2),\n",
       " ('apple', 3),\n",
       " ('apple', 4),\n",
       " ('apple', 5),\n",
       " ('apple', 6),\n",
       " ('apple', 7),\n",
       " ('apple', 8),\n",
       " ('apple', 9),\n",
       " ('banana', 0),\n",
       " ('banana', 1),\n",
       " ('banana', 2),\n",
       " ('banana', 3),\n",
       " ('banana', 4),\n",
       " ('banana', 5),\n",
       " ('banana', 6),\n",
       " ('banana', 7),\n",
       " ('banana', 8),\n",
       " ('banana', 9)]"
      ]
     },
     "execution_count": 42,
     "metadata": {},
     "output_type": "execute_result"
    }
   ],
   "source": [
    "# sampleByKey\n",
    "fruit = sc.parallelize([\"apple\", \"banana\"])\n",
    "number = sc.parallelize(range(10))\n",
    "rdd = fruit.cartesian(number)\n",
    "rdd.collect()"
   ]
  },
  {
   "cell_type": "code",
   "execution_count": 43,
   "id": "9cd244ca",
   "metadata": {},
   "outputs": [
    {
     "data": {
      "text/plain": [
       "[('apple', 3),\n",
       " ('apple', 5),\n",
       " ('apple', 7),\n",
       " ('banana', 1),\n",
       " ('banana', 5),\n",
       " ('banana', 6),\n",
       " ('banana', 7),\n",
       " ('banana', 9)]"
      ]
     },
     "execution_count": 43,
     "metadata": {},
     "output_type": "execute_result"
    }
   ],
   "source": [
    "# 以key分组 按照比例进行随机抽样\n",
    "# withReplacement是否放回\n",
    "# fractions 抽样比例\n",
    "# seed 随机种子\n",
    "frac = ({\"apple\": 0.3, \"banana\": 0.5})\n",
    "rdd.sampleByKey(False, frac, 1).collect()"
   ]
  },
  {
   "cell_type": "code",
   "execution_count": 47,
   "id": "d192ab21",
   "metadata": {},
   "outputs": [
    {
     "data": {
      "text/plain": [
       "[('a', 1), ('a', 2), ('a', 3), ('b', 4), ('b', 5), ('b', 6)]"
      ]
     },
     "execution_count": 47,
     "metadata": {},
     "output_type": "execute_result"
    }
   ],
   "source": [
    "# flatMapValues\n",
    "rdd = sc.parallelize([(\"a\", [1, 2, 3]), (\"b\", [4, 5, 6])])\n",
    "rdd.flatMapValues(lambda x: x).collect()"
   ]
  },
  {
   "cell_type": "code",
   "execution_count": 49,
   "id": "a4ce6c15",
   "metadata": {},
   "outputs": [
    {
     "data": {
      "text/plain": [
       "[('jack', (20, 'male')), ('rose', (18, 'female'))]"
      ]
     },
     "execution_count": 49,
     "metadata": {},
     "output_type": "execute_result"
    }
   ],
   "source": [
    "# join\n",
    "age = sc.parallelize([(\"jack\", 20), (\"rose\", 18), (\"tony\", 20)])\n",
    "gender = sc.parallelize([(\"jack\", \"male\"), (\"rose\", \"female\"), (\"tom\", \"male\")])\n",
    "age.join(gender).collect()  # 内连接确保都有， 因此无空"
   ]
  },
  {
   "cell_type": "code",
   "execution_count": 50,
   "id": "2658b58b",
   "metadata": {},
   "outputs": [
    {
     "data": {
      "text/plain": [
       "[('jack', (20, 'male')), ('tony', (20, None)), ('rose', (18, 'female'))]"
      ]
     },
     "execution_count": 50,
     "metadata": {},
     "output_type": "execute_result"
    }
   ],
   "source": [
    "age.leftOuterJoin(gender).collect() # 外连接 可以理解为含有空"
   ]
  },
  {
   "cell_type": "code",
   "execution_count": 51,
   "id": "8da831b2",
   "metadata": {},
   "outputs": [
    {
     "data": {
      "text/plain": [
       "[('tom', (None, 'male')), ('jack', (20, 'male')), ('rose', (18, 'female'))]"
      ]
     },
     "execution_count": 51,
     "metadata": {},
     "output_type": "execute_result"
    }
   ],
   "source": [
    "age.rightOuterJoin(gender).collect()"
   ]
  },
  {
   "cell_type": "code",
   "execution_count": 52,
   "id": "c07a3fc8",
   "metadata": {},
   "outputs": [
    {
     "data": {
      "text/plain": [
       "[('tom', (None, 'male')),\n",
       " ('jack', (20, 'male')),\n",
       " ('tony', (20, None)),\n",
       " ('rose', (18, 'female'))]"
      ]
     },
     "execution_count": 52,
     "metadata": {},
     "output_type": "execute_result"
    }
   ],
   "source": [
    "age.fullOuterJoin(gender).collect()"
   ]
  },
  {
   "cell_type": "code",
   "execution_count": null,
   "id": "7696a643",
   "metadata": {},
   "outputs": [],
   "source": []
  }
 ],
 "metadata": {
  "kernelspec": {
   "display_name": "Python 3 (ipykernel)",
   "language": "python",
   "name": "python3"
  },
  "language_info": {
   "codemirror_mode": {
    "name": "ipython",
    "version": 3
   },
   "file_extension": ".py",
   "mimetype": "text/x-python",
   "name": "python",
   "nbconvert_exporter": "python",
   "pygments_lexer": "ipython3",
   "version": "3.7.1"
  }
 },
 "nbformat": 4,
 "nbformat_minor": 5
}
