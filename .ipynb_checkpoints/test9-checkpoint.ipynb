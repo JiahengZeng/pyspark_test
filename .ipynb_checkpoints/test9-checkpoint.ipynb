{
 "cells": [
  {
   "cell_type": "code",
   "execution_count": 1,
   "id": "67e376a3",
   "metadata": {},
   "outputs": [],
   "source": [
    "import pyspark\n",
    "from pyspark.sql import SparkSession\n",
    "import findspark\n",
    "findspark.init()\n",
    "spark = SparkSession.builder.appName('test9').master('local[*]')\\\n",
    "        .enableHiveSupport().getOrCreate()  # sparkSQL 编程\n",
    "sc = spark.sparkContext  # RDD编程"
   ]
  },
  {
   "cell_type": "code",
   "execution_count": 2,
   "id": "74f9a248",
   "metadata": {},
   "outputs": [],
   "source": [
    "rdd = sc.parallelize([('jack', 20),\n",
    "                       ('rose', 18)])"
   ]
  },
  {
   "cell_type": "code",
   "execution_count": 3,
   "id": "baaa154a",
   "metadata": {},
   "outputs": [],
   "source": [
    "df = rdd.toDF(schema=['name', 'age'])"
   ]
  },
  {
   "cell_type": "code",
   "execution_count": 4,
   "id": "5ded9b9c",
   "metadata": {},
   "outputs": [
    {
     "name": "stdout",
     "output_type": "stream",
     "text": [
      "+----+---+\n",
      "|name|age|\n",
      "+----+---+\n",
      "|jack| 20|\n",
      "|rose| 18|\n",
      "+----+---+\n",
      "\n"
     ]
    }
   ],
   "source": [
    "df.show()"
   ]
  },
  {
   "cell_type": "code",
   "execution_count": 5,
   "id": "4bf975ea",
   "metadata": {},
   "outputs": [
    {
     "data": {
      "text/plain": [
       "[Row(name='jack', age=20), Row(name='rose', age=18)]"
      ]
     },
     "execution_count": 5,
     "metadata": {},
     "output_type": "execute_result"
    }
   ],
   "source": [
    "rdd = df.rdd\n",
    "rdd.collect()"
   ]
  },
  {
   "cell_type": "code",
   "execution_count": 8,
   "id": "05bc50ba",
   "metadata": {},
   "outputs": [
    {
     "data": {
      "text/html": [
       "<div>\n",
       "<style scoped>\n",
       "    .dataframe tbody tr th:only-of-type {\n",
       "        vertical-align: middle;\n",
       "    }\n",
       "\n",
       "    .dataframe tbody tr th {\n",
       "        vertical-align: top;\n",
       "    }\n",
       "\n",
       "    .dataframe thead th {\n",
       "        text-align: right;\n",
       "    }\n",
       "</style>\n",
       "<table border=\"1\" class=\"dataframe\">\n",
       "  <thead>\n",
       "    <tr style=\"text-align: right;\">\n",
       "      <th></th>\n",
       "      <th>name</th>\n",
       "      <th>age</th>\n",
       "    </tr>\n",
       "  </thead>\n",
       "  <tbody>\n",
       "    <tr>\n",
       "      <th>0</th>\n",
       "      <td>jack</td>\n",
       "      <td>20</td>\n",
       "    </tr>\n",
       "    <tr>\n",
       "      <th>1</th>\n",
       "      <td>rose</td>\n",
       "      <td>18</td>\n",
       "    </tr>\n",
       "  </tbody>\n",
       "</table>\n",
       "</div>"
      ],
      "text/plain": [
       "   name  age\n",
       "0  jack   20\n",
       "1  rose   18"
      ]
     },
     "execution_count": 8,
     "metadata": {},
     "output_type": "execute_result"
    }
   ],
   "source": [
    "import pandas as pd\n",
    "pd_df = pd.DataFrame(data=[('jack', 20), ('rose', 18)], columns=['name', 'age'])\n",
    "pd_df.head()"
   ]
  },
  {
   "cell_type": "code",
   "execution_count": 9,
   "id": "be78540f",
   "metadata": {},
   "outputs": [
    {
     "name": "stdout",
     "output_type": "stream",
     "text": [
      "+----+---+\n",
      "|name|age|\n",
      "+----+---+\n",
      "|jack| 20|\n",
      "|rose| 18|\n",
      "+----+---+\n",
      "\n"
     ]
    }
   ],
   "source": [
    "df = spark.createDataFrame(pd_df)\n",
    "df.show()"
   ]
  },
  {
   "cell_type": "code",
   "execution_count": 10,
   "id": "79e8af0e",
   "metadata": {},
   "outputs": [
    {
     "data": {
      "text/html": [
       "<div>\n",
       "<style scoped>\n",
       "    .dataframe tbody tr th:only-of-type {\n",
       "        vertical-align: middle;\n",
       "    }\n",
       "\n",
       "    .dataframe tbody tr th {\n",
       "        vertical-align: top;\n",
       "    }\n",
       "\n",
       "    .dataframe thead th {\n",
       "        text-align: right;\n",
       "    }\n",
       "</style>\n",
       "<table border=\"1\" class=\"dataframe\">\n",
       "  <thead>\n",
       "    <tr style=\"text-align: right;\">\n",
       "      <th></th>\n",
       "      <th>name</th>\n",
       "      <th>age</th>\n",
       "    </tr>\n",
       "  </thead>\n",
       "  <tbody>\n",
       "    <tr>\n",
       "      <th>0</th>\n",
       "      <td>jack</td>\n",
       "      <td>20</td>\n",
       "    </tr>\n",
       "    <tr>\n",
       "      <th>1</th>\n",
       "      <td>rose</td>\n",
       "      <td>18</td>\n",
       "    </tr>\n",
       "  </tbody>\n",
       "</table>\n",
       "</div>"
      ],
      "text/plain": [
       "   name  age\n",
       "0  jack   20\n",
       "1  rose   18"
      ]
     },
     "execution_count": 10,
     "metadata": {},
     "output_type": "execute_result"
    }
   ],
   "source": [
    "pd_df = df.toPandas()\n",
    "pd_df.head()"
   ]
  },
  {
   "cell_type": "code",
   "execution_count": 11,
   "id": "9aa89e62",
   "metadata": {},
   "outputs": [],
   "source": [
    "data = [('jack', 20), ('rose', 18)]\n",
    "df = spark.createDataFrame(data=data, schema=['name', 'age'])"
   ]
  },
  {
   "cell_type": "code",
   "execution_count": 12,
   "id": "ed5ec42e",
   "metadata": {},
   "outputs": [
    {
     "name": "stdout",
     "output_type": "stream",
     "text": [
      "+----+---+\n",
      "|name|age|\n",
      "+----+---+\n",
      "|jack| 20|\n",
      "|rose| 18|\n",
      "+----+---+\n",
      "\n"
     ]
    }
   ],
   "source": [
    "df.show()"
   ]
  },
  {
   "cell_type": "code",
   "execution_count": 13,
   "id": "3b06225c",
   "metadata": {},
   "outputs": [
    {
     "data": {
      "text/plain": [
       "[('jack', 20, datetime.datetime(2001, 1, 10, 0, 0)),\n",
       " ('rose', 18, datetime.datetime(2002, 1, 10, 0, 0)),\n",
       " ('tom', 20, datetime.datetime(2004, 1, 10, 0, 0))]"
      ]
     },
     "execution_count": 13,
     "metadata": {},
     "output_type": "execute_result"
    }
   ],
   "source": [
    "from datetime import datetime\n",
    "data = [('jack', 20, datetime(2001, 1, 10)),\n",
    "       ('rose', 18, datetime(2002, 1, 10)),\n",
    "       ('tom', 20, datetime(2004, 1, 10)),]\n",
    "rdd = sc.parallelize(data)\n",
    "rdd.collect()"
   ]
  },
  {
   "cell_type": "code",
   "execution_count": 14,
   "id": "da0fadf4",
   "metadata": {},
   "outputs": [],
   "source": [
    "df = spark.createDataFrame(rdd, schema=['name', 'age', 'birthday'])"
   ]
  },
  {
   "cell_type": "code",
   "execution_count": 15,
   "id": "5c04cfea",
   "metadata": {},
   "outputs": [
    {
     "name": "stdout",
     "output_type": "stream",
     "text": [
      "+----+---+-------------------+\n",
      "|name|age|           birthday|\n",
      "+----+---+-------------------+\n",
      "|jack| 20|2001-01-10 00:00:00|\n",
      "|rose| 18|2002-01-10 00:00:00|\n",
      "| tom| 20|2004-01-10 00:00:00|\n",
      "+----+---+-------------------+\n",
      "\n"
     ]
    }
   ],
   "source": [
    "df.show()"
   ]
  },
  {
   "cell_type": "code",
   "execution_count": 17,
   "id": "4b0e7f79",
   "metadata": {},
   "outputs": [
    {
     "name": "stdout",
     "output_type": "stream",
     "text": [
      "root\n",
      " |-- name: string (nullable = true)\n",
      " |-- age: long (nullable = true)\n",
      " |-- birthday: timestamp (nullable = true)\n",
      "\n"
     ]
    }
   ],
   "source": [
    "df = rdd.toDF(schema=['name', 'age', 'birthday'])\n",
    "# df.show()\n",
    "df.printSchema()"
   ]
  },
  {
   "cell_type": "code",
   "execution_count": 19,
   "id": "bde997f0",
   "metadata": {},
   "outputs": [
    {
     "name": "stdout",
     "output_type": "stream",
     "text": [
      "root\n",
      " |-- name: string (nullable = true)\n",
      " |-- age: integer (nullable = true)\n",
      " |-- birth: date (nullable = true)\n",
      "\n",
      "+----+---+----------+\n",
      "|name|age|     birth|\n",
      "+----+---+----------+\n",
      "|jack| 20|2001-01-10|\n",
      "|rose| 18|2002-01-10|\n",
      "| tom| 20|2004-01-10|\n",
      "+----+---+----------+\n",
      "\n"
     ]
    }
   ],
   "source": [
    "schema = 'name string, age int, birth date'\n",
    "df = spark.createDataFrame(rdd, schema=schema)\n",
    "df.printSchema()\n",
    "df.show()"
   ]
  },
  {
   "cell_type": "code",
   "execution_count": 20,
   "id": "a0d33b16",
   "metadata": {},
   "outputs": [
    {
     "name": "stdout",
     "output_type": "stream",
     "text": [
      "+-----+------------+-----------+------------+\n",
      "|label|petal_length|petal_width|sepal_length|\n",
      "+-----+------------+-----------+------------+\n",
      "|    0|         1.4|        0.2|         5.1|\n",
      "+-----+------------+-----------+------------+\n",
      "\n"
     ]
    }
   ],
   "source": [
    "df = spark.read.json('json_data.json')\n",
    "df.show()"
   ]
  },
  {
   "cell_type": "code",
   "execution_count": 25,
   "id": "edd566f8",
   "metadata": {},
   "outputs": [
    {
     "name": "stdout",
     "output_type": "stream",
     "text": [
      "+------------+------------+-------------+------------+------+\n",
      "|speal_length| sepal_width| petal_length| petal_width| label|\n",
      "+------------+------------+-------------+------------+------+\n",
      "|         5.1|         3.5|          1.4|         0.2|   0.0|\n",
      "+------------+------------+-------------+------------+------+\n",
      "\n",
      "root\n",
      " |-- speal_length: double (nullable = true)\n",
      " |--  sepal_width: double (nullable = true)\n",
      " |--  petal_length: double (nullable = true)\n",
      " |--  petal_width: double (nullable = true)\n",
      " |--  label: double (nullable = true)\n",
      "\n"
     ]
    }
   ],
   "source": [
    "df = spark.read.csv('csv_data.csv', header=True, inferSchema=True)\n",
    "df.show()\n",
    "df.printSchema()"
   ]
  },
  {
   "cell_type": "code",
   "execution_count": null,
   "id": "7c14f35d",
   "metadata": {},
   "outputs": [],
   "source": []
  }
 ],
 "metadata": {
  "kernelspec": {
   "display_name": "Python 3 (ipykernel)",
   "language": "python",
   "name": "python3"
  },
  "language_info": {
   "codemirror_mode": {
    "name": "ipython",
    "version": 3
   },
   "file_extension": ".py",
   "mimetype": "text/x-python",
   "name": "python",
   "nbconvert_exporter": "python",
   "pygments_lexer": "ipython3",
   "version": "3.7.1"
  }
 },
 "nbformat": 4,
 "nbformat_minor": 5
}
