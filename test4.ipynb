{
 "cells": [
  {
   "cell_type": "code",
   "execution_count": 1,
   "id": "8198d8e0",
   "metadata": {},
   "outputs": [],
   "source": [
    "import pyspark\n",
    "from pyspark import SparkContext, SparkConf\n",
    "import findspark\n",
    "findspark.init()\n",
    "conf = SparkConf().setAppName('test3').setMaster('local[4]')\n",
    "sc = SparkContext(conf=conf)"
   ]
  },
  {
   "cell_type": "markdown",
   "id": "7739e640",
   "metadata": {},
   "source": [
    "# pairRDD变换算子"
   ]
  },
  {
   "cell_type": "markdown",
   "id": "ec98b81b",
   "metadata": {},
   "source": [
    "#### 包含key和value的RDD，类似于字典"
   ]
  },
  {
   "cell_type": "code",
   "execution_count": 2,
   "id": "ef4c0a88",
   "metadata": {},
   "outputs": [
    {
     "data": {
      "text/plain": [
       "[(1, 'a'), (1, 'b'), (1, 'c')]"
      ]
     },
     "execution_count": 2,
     "metadata": {},
     "output_type": "execute_result"
    }
   ],
   "source": [
    "rdd = sc.parallelize([\"a\", \"b\", \"c\"])\n",
    "rdd.keyBy(lambda x: 1).collect()"
   ]
  },
  {
   "cell_type": "code",
   "execution_count": 3,
   "id": "02e0d6a8",
   "metadata": {},
   "outputs": [],
   "source": [
    "# lookup\n",
    "rdd_1 = sc.parallelize([(\"python\", 1), (\"python\", 2), (\"pandas\", 3), (\"pandas\", 4)])"
   ]
  },
  {
   "cell_type": "code",
   "execution_count": 5,
   "id": "da014643",
   "metadata": {},
   "outputs": [
    {
     "data": {
      "text/plain": [
       "['python', 'python', 'pandas', 'pandas']"
      ]
     },
     "execution_count": 5,
     "metadata": {},
     "output_type": "execute_result"
    }
   ],
   "source": [
    "rdd_1.keys().collect()"
   ]
  },
  {
   "cell_type": "code",
   "execution_count": 6,
   "id": "6132ef7f",
   "metadata": {},
   "outputs": [
    {
     "data": {
      "text/plain": [
       "[1, 2, 3, 4]"
      ]
     },
     "execution_count": 6,
     "metadata": {},
     "output_type": "execute_result"
    }
   ],
   "source": [
    "rdd_1.values().collect()"
   ]
  },
  {
   "cell_type": "code",
   "execution_count": 9,
   "id": "61557496",
   "metadata": {},
   "outputs": [
    {
     "data": {
      "text/plain": [
       "[1, 2]"
      ]
     },
     "execution_count": 9,
     "metadata": {},
     "output_type": "execute_result"
    }
   ],
   "source": [
    "# lookup是动作算子\n",
    "rdd_1.lookup(\"python\")"
   ]
  },
  {
   "cell_type": "code",
   "execution_count": 10,
   "id": "9e9e943e",
   "metadata": {},
   "outputs": [
    {
     "data": {
      "text/plain": [
       "[('python', 3), ('pandas', 7)]"
      ]
     },
     "execution_count": 10,
     "metadata": {},
     "output_type": "execute_result"
    }
   ],
   "source": [
    "# 以key分组对value进行二元归并的操作\n",
    "rdd_1.reduceByKey(lambda x, y: x+y).collect()"
   ]
  },
  {
   "cell_type": "code",
   "execution_count": 11,
   "id": "b298c1fc",
   "metadata": {},
   "outputs": [
    {
     "data": {
      "text/plain": [
       "{'python': 3, 'pandas': 7}"
      ]
     },
     "execution_count": 11,
     "metadata": {},
     "output_type": "execute_result"
    }
   ],
   "source": [
    "# reduceByKeyLocally\n",
    "dct = rdd_1.reduceByKeyLocally(lambda x, y: x+y)\n",
    "dct"
   ]
  },
  {
   "cell_type": "code",
   "execution_count": null,
   "id": "94081cb8",
   "metadata": {},
   "outputs": [],
   "source": [
    "# foldByKey\n"
   ]
  }
 ],
 "metadata": {
  "kernelspec": {
   "display_name": "Python 3 (ipykernel)",
   "language": "python",
   "name": "python3"
  },
  "language_info": {
   "codemirror_mode": {
    "name": "ipython",
    "version": 3
   },
   "file_extension": ".py",
   "mimetype": "text/x-python",
   "name": "python",
   "nbconvert_exporter": "python",
   "pygments_lexer": "ipython3",
   "version": "3.7.1"
  }
 },
 "nbformat": 4,
 "nbformat_minor": 5
}
