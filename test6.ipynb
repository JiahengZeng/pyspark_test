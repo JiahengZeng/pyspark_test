{
 "cells": [
  {
   "cell_type": "code",
   "execution_count": 1,
   "id": "0bc6cf66",
   "metadata": {},
   "outputs": [],
   "source": [
    "import pyspark\n",
    "from pyspark import SparkContext, SparkConf\n",
    "import findspark\n",
    "findspark.init()\n",
    "conf = SparkConf().setAppName('test6').setMaster('local[4]')\n",
    "sc = SparkContext(conf=conf)"
   ]
  },
  {
   "cell_type": "code",
   "execution_count": 3,
   "id": "01203252",
   "metadata": {},
   "outputs": [
    {
     "data": {
      "text/plain": [
       "PythonRDD[2] at RDD at PythonRDD.scala:53"
      ]
     },
     "execution_count": 3,
     "metadata": {},
     "output_type": "execute_result"
    }
   ],
   "source": [
    "# 缓存的好处：\n",
    "\"\"\"\n",
    "什么是缓存？ 实现内存与CPU之间高速交换数据的存储器，比磁盘中读取效率快很多；\n",
    "工作原理：CPU读取数据优先在缓存中查找，找到后立即发送给CPU处理；\n",
    "如果一个RDD被多个任务调用，可以缓存到内存中，提高计算效率；\n",
    "如果RDD不再需要被调用，可以立即释放，避免资源被浪费；\n",
    "\"\"\"\n",
    "rdd = sc.parallelize(range(10000), 5)\n",
    "rdd.cache()"
   ]
  },
  {
   "cell_type": "code",
   "execution_count": 4,
   "id": "0795a71f",
   "metadata": {},
   "outputs": [
    {
     "data": {
      "text/plain": [
       "StorageLevel(False, True, False, False, 1)"
      ]
     },
     "execution_count": 4,
     "metadata": {},
     "output_type": "execute_result"
    }
   ],
   "source": [
    "rdd.getStorageLevel()\n",
    "# 常见的两种存储级别： 缓存到内存，缓存到内存和磁盘\n",
    "# StorageLevel(False, True, False, False, 1)\n",
    "# (是否使用磁盘， 是否使用内存， 是否使用堆外内存， 是否以java反序列化格式存储， 数据备份数量)\n",
    "# 堆外内存 归操作系统进行管理\n",
    "# 堆内内存 归java虚拟机管理\n",
    "# 序列化：将对象转换为可以传输的字节序列的过程\n",
    "# 反序列化：将字节序列还原为对象的过程"
   ]
  },
  {
   "cell_type": "code",
   "execution_count": 5,
   "id": "fa7a1e4a",
   "metadata": {},
   "outputs": [
    {
     "name": "stdout",
     "output_type": "stream",
     "text": [
      "4999.5\n"
     ]
    },
    {
     "data": {
      "text/plain": [
       "PythonRDD[2] at RDD at PythonRDD.scala:53"
      ]
     },
     "execution_count": 5,
     "metadata": {},
     "output_type": "execute_result"
    }
   ],
   "source": [
    "rdd_cnt = rdd.count()\n",
    "rdd_sum = rdd.reduce(lambda x, y: x+y)\n",
    "rdd_mean = rdd_sum/rdd_cnt\n",
    "print(rdd_mean)\n",
    "rdd.unpersist()"
   ]
  },
  {
   "cell_type": "code",
   "execution_count": 7,
   "id": "39546c57",
   "metadata": {},
   "outputs": [
    {
     "data": {
      "text/plain": [
       "PythonRDD[2] at RDD at PythonRDD.scala:53"
      ]
     },
     "execution_count": 7,
     "metadata": {},
     "output_type": "execute_result"
    }
   ],
   "source": [
    "# 设置到缓存和磁盘 如果内存存储不了，就会先加载到内存，再放入磁盘\n",
    "from pyspark.storagelevel import StorageLevel\n",
    "rdd.persist(StorageLevel.MEMORY_AND_DISK)"
   ]
  },
  {
   "cell_type": "code",
   "execution_count": 8,
   "id": "02b72f92",
   "metadata": {},
   "outputs": [
    {
     "data": {
      "text/plain": [
       "StorageLevel(True, True, False, False, 1)"
      ]
     },
     "execution_count": 8,
     "metadata": {},
     "output_type": "execute_result"
    }
   ],
   "source": [
    "rdd.getStorageLevel()"
   ]
  },
  {
   "cell_type": "code",
   "execution_count": 9,
   "id": "2d24e0f6",
   "metadata": {},
   "outputs": [
    {
     "name": "stdout",
     "output_type": "stream",
     "text": [
      "4999.5\n"
     ]
    }
   ],
   "source": [
    "rdd_cnt = rdd.count()\n",
    "rdd_sum = rdd.reduce(lambda x, y: x+y)\n",
    "rdd_mean = rdd_sum/rdd_cnt\n",
    "print(rdd_mean)"
   ]
  },
  {
   "cell_type": "code",
   "execution_count": 10,
   "id": "ce3d7ccb",
   "metadata": {},
   "outputs": [
    {
     "data": {
      "text/plain": [
       "StorageLevel(False, False, False, False, 1)"
      ]
     },
     "execution_count": 10,
     "metadata": {},
     "output_type": "execute_result"
    }
   ],
   "source": [
    "rdd.unpersist()\n",
    "rdd.getStorageLevel()"
   ]
  },
  {
   "cell_type": "code",
   "execution_count": null,
   "id": "a8ad446d",
   "metadata": {},
   "outputs": [],
   "source": []
  }
 ],
 "metadata": {
  "kernelspec": {
   "display_name": "Python 3 (ipykernel)",
   "language": "python",
   "name": "python3"
  },
  "language_info": {
   "codemirror_mode": {
    "name": "ipython",
    "version": 3
   },
   "file_extension": ".py",
   "mimetype": "text/x-python",
   "name": "python",
   "nbconvert_exporter": "python",
   "pygments_lexer": "ipython3",
   "version": "3.7.1"
  }
 },
 "nbformat": 4,
 "nbformat_minor": 5
}
