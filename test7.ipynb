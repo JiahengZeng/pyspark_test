{
 "cells": [
  {
   "cell_type": "code",
   "execution_count": 1,
   "id": "8338bbcb",
   "metadata": {},
   "outputs": [],
   "source": [
    "import pyspark\n",
    "from pyspark import SparkContext, SparkConf\n",
    "import findspark\n",
    "findspark.init()\n",
    "conf = SparkConf().setAppName('test7').setMaster('local[4]')\n",
    "sc = SparkContext(conf=conf)"
   ]
  },
  {
   "cell_type": "code",
   "execution_count": 2,
   "id": "5159196f",
   "metadata": {},
   "outputs": [
    {
     "data": {
      "text/plain": [
       "[0, 1, 2, 3, 4, 5, 6, 7, 8, 9]"
      ]
     },
     "execution_count": 2,
     "metadata": {},
     "output_type": "execute_result"
    }
   ],
   "source": [
    "rdd = sc.parallelize(range(10))\n",
    "rdd.collect()"
   ]
  },
  {
   "cell_type": "code",
   "execution_count": 3,
   "id": "bc714b52",
   "metadata": {},
   "outputs": [
    {
     "data": {
      "text/plain": [
       "100"
      ]
     },
     "execution_count": 3,
     "metadata": {},
     "output_type": "execute_result"
    }
   ],
   "source": [
    "# 设置广播变量，提高计算效率\n",
    "broad = sc.broadcast(100)\n",
    "broad.value"
   ]
  },
  {
   "cell_type": "code",
   "execution_count": 6,
   "id": "db4f4744",
   "metadata": {},
   "outputs": [
    {
     "data": {
      "text/plain": [
       "[100, 101, 102, 103, 104, 105, 106, 107, 108, 109]"
      ]
     },
     "execution_count": 6,
     "metadata": {},
     "output_type": "execute_result"
    }
   ],
   "source": [
    "rdd.map(lambda x: x+broad.value).collect()"
   ]
  },
  {
   "cell_type": "code",
   "execution_count": 7,
   "id": "0bb278b1",
   "metadata": {},
   "outputs": [],
   "source": [
    "broad.unpersist()"
   ]
  },
  {
   "cell_type": "code",
   "execution_count": 8,
   "id": "14ef1fe0",
   "metadata": {},
   "outputs": [
    {
     "data": {
      "text/plain": [
       "[0, 1, 2, 3, 4, 5, 6, 7, 8, 9]"
      ]
     },
     "execution_count": 8,
     "metadata": {},
     "output_type": "execute_result"
    }
   ],
   "source": [
    "rdd = sc.parallelize(range(10))\n",
    "rdd.collect()"
   ]
  },
  {
   "cell_type": "code",
   "execution_count": 11,
   "id": "0bca3fa4",
   "metadata": {},
   "outputs": [
    {
     "data": {
      "text/plain": [
       "45"
      ]
     },
     "execution_count": 11,
     "metadata": {},
     "output_type": "execute_result"
    }
   ],
   "source": [
    "# foreach是action算子，便利每个元素并应用自定义函数的操作，\n",
    "# 它主要目的是再每个元素上直接执行指定的操作，而无需返回任何结果\n",
    "# map是一个transform算子，返回一个新的RDD；\n",
    "# 如果只需要执行操作而不范围结果用foreach，如果要转换构建新的rdd用map\n",
    "acc = sc.accumulator(0)\n",
    "rdd.foreach(lambda x: acc.add(x))\n",
    "acc.value"
   ]
  },
  {
   "cell_type": "code",
   "execution_count": 12,
   "id": "142afe2f",
   "metadata": {},
   "outputs": [],
   "source": [
    "rdd = sc.parallelize(range(10000))"
   ]
  },
  {
   "cell_type": "code",
   "execution_count": 15,
   "id": "5e51451f",
   "metadata": {},
   "outputs": [
    {
     "data": {
      "text/plain": [
       "10000"
      ]
     },
     "execution_count": 15,
     "metadata": {},
     "output_type": "execute_result"
    }
   ],
   "source": [
    "acc_sum = sc.accumulator(0)\n",
    "acc_cnt = sc.accumulator(0)\n",
    "\n",
    "def func(x):\n",
    "    acc_sum.add(x)\n",
    "    acc_cnt.add(1)\n",
    "    \n",
    "rdd.foreach(func)\n",
    "acc_sum.value\n",
    "acc_cnt.value"
   ]
  },
  {
   "cell_type": "code",
   "execution_count": null,
   "id": "acecb3be",
   "metadata": {},
   "outputs": [],
   "source": []
  }
 ],
 "metadata": {
  "kernelspec": {
   "display_name": "Python 3 (ipykernel)",
   "language": "python",
   "name": "python3"
  },
  "language_info": {
   "codemirror_mode": {
    "name": "ipython",
    "version": 3
   },
   "file_extension": ".py",
   "mimetype": "text/x-python",
   "name": "python",
   "nbconvert_exporter": "python",
   "pygments_lexer": "ipython3",
   "version": "3.7.1"
  }
 },
 "nbformat": 4,
 "nbformat_minor": 5
}
