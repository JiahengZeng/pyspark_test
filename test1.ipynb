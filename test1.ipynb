{
 "cells": [
  {
   "cell_type": "code",
   "execution_count": 1,
   "id": "8894c031-03af-4e1a-a10a-ef253e42ace5",
   "metadata": {},
   "outputs": [],
   "source": [
    "import findspark\n",
    "from pyspark.sql import SparkSession\n",
    "findspark.init()"
   ]
  },
  {
   "cell_type": "code",
   "execution_count": 3,
   "id": "81b097b0-7a31-4476-8716-0794836d0b99",
   "metadata": {},
   "outputs": [],
   "source": [
    "spark = SparkSession.Builder().master(\"local[4]\").getOrCreate()"
   ]
  },
  {
   "cell_type": "code",
   "execution_count": 4,
   "id": "df4c7c61-14fc-4762-8b2a-ba8e187805ee",
   "metadata": {},
   "outputs": [
    {
     "data": {
      "text/html": [
       "\n",
       "            <div>\n",
       "                <p><b>SparkSession - in-memory</b></p>\n",
       "                \n",
       "        <div>\n",
       "            <p><b>SparkContext</b></p>\n",
       "\n",
       "            <p><a href=\"http://DESKTOP-M33LMQB:4040\">Spark UI</a></p>\n",
       "\n",
       "            <dl>\n",
       "              <dt>Version</dt>\n",
       "                <dd><code>v3.1.2</code></dd>\n",
       "              <dt>Master</dt>\n",
       "                <dd><code>local[4]</code></dd>\n",
       "              <dt>AppName</dt>\n",
       "                <dd><code>pyspark-shell</code></dd>\n",
       "            </dl>\n",
       "        </div>\n",
       "        \n",
       "            </div>\n",
       "        "
      ],
      "text/plain": [
       "<pyspark.sql.session.SparkSession at 0x27a42e2cc88>"
      ]
     },
     "execution_count": 4,
     "metadata": {},
     "output_type": "execute_result"
    }
   ],
   "source": [
    "spark"
   ]
  },
  {
   "cell_type": "code",
   "execution_count": 6,
   "id": "0d00a32f",
   "metadata": {},
   "outputs": [
    {
     "name": "stdout",
     "output_type": "stream",
     "text": [
      "+-------+--------+\n",
      "|   name|    type|\n",
      "+-------+--------+\n",
      "| python|数据分析|\n",
      "|pyspark|  大数据|\n",
      "+-------+--------+\n",
      "\n"
     ]
    }
   ],
   "source": [
    "df = spark.createDataFrame(\n",
    "    data = [['python', '数据分析'],\n",
    "           ['pyspark', '大数据']], schema=('name', 'type'))\n",
    "df.show()"
   ]
  },
  {
   "cell_type": "code",
   "execution_count": 8,
   "id": "08c7ba4c",
   "metadata": {},
   "outputs": [
    {
     "data": {
      "text/html": [
       "<div>\n",
       "<style scoped>\n",
       "    .dataframe tbody tr th:only-of-type {\n",
       "        vertical-align: middle;\n",
       "    }\n",
       "\n",
       "    .dataframe tbody tr th {\n",
       "        vertical-align: top;\n",
       "    }\n",
       "\n",
       "    .dataframe thead th {\n",
       "        text-align: right;\n",
       "    }\n",
       "</style>\n",
       "<table border=\"1\" class=\"dataframe\">\n",
       "  <thead>\n",
       "    <tr style=\"text-align: right;\">\n",
       "      <th></th>\n",
       "      <th>0</th>\n",
       "      <th>1</th>\n",
       "      <th>2</th>\n",
       "    </tr>\n",
       "  </thead>\n",
       "  <tbody>\n",
       "    <tr>\n",
       "      <th>0</th>\n",
       "      <td>0.939460</td>\n",
       "      <td>0.565667</td>\n",
       "      <td>0.658901</td>\n",
       "    </tr>\n",
       "    <tr>\n",
       "      <th>1</th>\n",
       "      <td>0.286262</td>\n",
       "      <td>0.603276</td>\n",
       "      <td>0.650860</td>\n",
       "    </tr>\n",
       "    <tr>\n",
       "      <th>2</th>\n",
       "      <td>0.162529</td>\n",
       "      <td>0.878573</td>\n",
       "      <td>0.879216</td>\n",
       "    </tr>\n",
       "    <tr>\n",
       "      <th>3</th>\n",
       "      <td>0.086172</td>\n",
       "      <td>0.299153</td>\n",
       "      <td>0.870567</td>\n",
       "    </tr>\n",
       "    <tr>\n",
       "      <th>4</th>\n",
       "      <td>0.428694</td>\n",
       "      <td>0.582048</td>\n",
       "      <td>0.976415</td>\n",
       "    </tr>\n",
       "    <tr>\n",
       "      <th>5</th>\n",
       "      <td>0.153892</td>\n",
       "      <td>0.517789</td>\n",
       "      <td>0.643996</td>\n",
       "    </tr>\n",
       "    <tr>\n",
       "      <th>6</th>\n",
       "      <td>0.963674</td>\n",
       "      <td>0.538975</td>\n",
       "      <td>0.117276</td>\n",
       "    </tr>\n",
       "    <tr>\n",
       "      <th>7</th>\n",
       "      <td>0.868412</td>\n",
       "      <td>0.726616</td>\n",
       "      <td>0.732322</td>\n",
       "    </tr>\n",
       "    <tr>\n",
       "      <th>8</th>\n",
       "      <td>0.640777</td>\n",
       "      <td>0.310180</td>\n",
       "      <td>0.639363</td>\n",
       "    </tr>\n",
       "    <tr>\n",
       "      <th>9</th>\n",
       "      <td>0.524878</td>\n",
       "      <td>0.606491</td>\n",
       "      <td>0.357654</td>\n",
       "    </tr>\n",
       "  </tbody>\n",
       "</table>\n",
       "</div>"
      ],
      "text/plain": [
       "          0         1         2\n",
       "0  0.939460  0.565667  0.658901\n",
       "1  0.286262  0.603276  0.650860\n",
       "2  0.162529  0.878573  0.879216\n",
       "3  0.086172  0.299153  0.870567\n",
       "4  0.428694  0.582048  0.976415\n",
       "5  0.153892  0.517789  0.643996\n",
       "6  0.963674  0.538975  0.117276\n",
       "7  0.868412  0.726616  0.732322\n",
       "8  0.640777  0.310180  0.639363\n",
       "9  0.524878  0.606491  0.357654"
      ]
     },
     "execution_count": 8,
     "metadata": {},
     "output_type": "execute_result"
    }
   ],
   "source": [
    "import numpy as np\n",
    "import pandas as pd\n",
    "pd_df = pd.DataFrame(np.random.rand(100,3))\n",
    "pd_df.head(10)"
   ]
  },
  {
   "cell_type": "code",
   "execution_count": 12,
   "id": "73fe00cf",
   "metadata": {},
   "outputs": [
    {
     "name": "stdout",
     "output_type": "stream",
     "text": [
      "+-------------------+-------------------+-------------------+\n",
      "|                  0|                  1|                  2|\n",
      "+-------------------+-------------------+-------------------+\n",
      "| 0.9394598643071385|  0.565667000969037| 0.6589011900440376|\n",
      "| 0.2862623330200126| 0.6032764241179767| 0.6508598815338381|\n",
      "| 0.1625286214205487| 0.8785733811997644|  0.879216373145288|\n",
      "|0.08617229076732713|0.29915323421090334| 0.8705672930172104|\n",
      "|0.42869350228632463| 0.5820482085033952|  0.976414566280112|\n",
      "|0.15389201106742423| 0.5177890873598645|  0.643995638660167|\n",
      "| 0.9636744372479848| 0.5389749380483806| 0.1172762365119685|\n",
      "| 0.8684117917214661| 0.7266160227863697|  0.732321939618439|\n",
      "| 0.6407768323217602| 0.3101802774368758| 0.6393627258311204|\n",
      "| 0.5248781432631454| 0.6064906346644965|0.35765394710818843|\n",
      "+-------------------+-------------------+-------------------+\n",
      "only showing top 10 rows\n",
      "\n"
     ]
    }
   ],
   "source": [
    "spark_df = spark.createDataFrame(pd_df)\n",
    "spark_df.show(10)"
   ]
  },
  {
   "cell_type": "code",
   "execution_count": 13,
   "id": "94c32ba9",
   "metadata": {},
   "outputs": [
    {
     "data": {
      "text/html": [
       "<div>\n",
       "<style scoped>\n",
       "    .dataframe tbody tr th:only-of-type {\n",
       "        vertical-align: middle;\n",
       "    }\n",
       "\n",
       "    .dataframe tbody tr th {\n",
       "        vertical-align: top;\n",
       "    }\n",
       "\n",
       "    .dataframe thead th {\n",
       "        text-align: right;\n",
       "    }\n",
       "</style>\n",
       "<table border=\"1\" class=\"dataframe\">\n",
       "  <thead>\n",
       "    <tr style=\"text-align: right;\">\n",
       "      <th></th>\n",
       "      <th>0</th>\n",
       "      <th>1</th>\n",
       "      <th>2</th>\n",
       "    </tr>\n",
       "  </thead>\n",
       "  <tbody>\n",
       "    <tr>\n",
       "      <th>0</th>\n",
       "      <td>0.939460</td>\n",
       "      <td>0.565667</td>\n",
       "      <td>0.658901</td>\n",
       "    </tr>\n",
       "    <tr>\n",
       "      <th>1</th>\n",
       "      <td>0.286262</td>\n",
       "      <td>0.603276</td>\n",
       "      <td>0.650860</td>\n",
       "    </tr>\n",
       "    <tr>\n",
       "      <th>2</th>\n",
       "      <td>0.162529</td>\n",
       "      <td>0.878573</td>\n",
       "      <td>0.879216</td>\n",
       "    </tr>\n",
       "    <tr>\n",
       "      <th>3</th>\n",
       "      <td>0.086172</td>\n",
       "      <td>0.299153</td>\n",
       "      <td>0.870567</td>\n",
       "    </tr>\n",
       "    <tr>\n",
       "      <th>4</th>\n",
       "      <td>0.428694</td>\n",
       "      <td>0.582048</td>\n",
       "      <td>0.976415</td>\n",
       "    </tr>\n",
       "    <tr>\n",
       "      <th>5</th>\n",
       "      <td>0.153892</td>\n",
       "      <td>0.517789</td>\n",
       "      <td>0.643996</td>\n",
       "    </tr>\n",
       "    <tr>\n",
       "      <th>6</th>\n",
       "      <td>0.963674</td>\n",
       "      <td>0.538975</td>\n",
       "      <td>0.117276</td>\n",
       "    </tr>\n",
       "    <tr>\n",
       "      <th>7</th>\n",
       "      <td>0.868412</td>\n",
       "      <td>0.726616</td>\n",
       "      <td>0.732322</td>\n",
       "    </tr>\n",
       "    <tr>\n",
       "      <th>8</th>\n",
       "      <td>0.640777</td>\n",
       "      <td>0.310180</td>\n",
       "      <td>0.639363</td>\n",
       "    </tr>\n",
       "    <tr>\n",
       "      <th>9</th>\n",
       "      <td>0.524878</td>\n",
       "      <td>0.606491</td>\n",
       "      <td>0.357654</td>\n",
       "    </tr>\n",
       "  </tbody>\n",
       "</table>\n",
       "</div>"
      ],
      "text/plain": [
       "          0         1         2\n",
       "0  0.939460  0.565667  0.658901\n",
       "1  0.286262  0.603276  0.650860\n",
       "2  0.162529  0.878573  0.879216\n",
       "3  0.086172  0.299153  0.870567\n",
       "4  0.428694  0.582048  0.976415\n",
       "5  0.153892  0.517789  0.643996\n",
       "6  0.963674  0.538975  0.117276\n",
       "7  0.868412  0.726616  0.732322\n",
       "8  0.640777  0.310180  0.639363\n",
       "9  0.524878  0.606491  0.357654"
      ]
     },
     "execution_count": 13,
     "metadata": {},
     "output_type": "execute_result"
    }
   ],
   "source": [
    "pd_df2 = spark_df.select(\"*\").toPandas()\n",
    "pd_df.head(10)"
   ]
  },
  {
   "cell_type": "code",
   "execution_count": null,
   "id": "a173a46f",
   "metadata": {},
   "outputs": [],
   "source": []
  }
 ],
 "metadata": {
  "kernelspec": {
   "display_name": "Python 3 (ipykernel)",
   "language": "python",
   "name": "python3"
  },
  "language_info": {
   "codemirror_mode": {
    "name": "ipython",
    "version": 3
   },
   "file_extension": ".py",
   "mimetype": "text/x-python",
   "name": "python",
   "nbconvert_exporter": "python",
   "pygments_lexer": "ipython3",
   "version": "3.7.1"
  }
 },
 "nbformat": 4,
 "nbformat_minor": 5
}
