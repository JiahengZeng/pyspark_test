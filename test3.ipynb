{
 "cells": [
  {
   "cell_type": "code",
   "execution_count": 1,
   "id": "83c795a8",
   "metadata": {},
   "outputs": [],
   "source": [
    "import pyspark\n",
    "from pyspark import SparkContext, SparkConf\n",
    "import findspark\n",
    "findspark.init()\n",
    "conf = SparkConf().setAppName('test3').setMaster('local[4]')\n",
    "sc = SparkContext(conf=conf)"
   ]
  },
  {
   "cell_type": "markdown",
   "id": "fa340469",
   "metadata": {},
   "source": [
    "# Action动作算子"
   ]
  },
  {
   "cell_type": "code",
   "execution_count": 2,
   "id": "86776607",
   "metadata": {},
   "outputs": [],
   "source": [
    "rdd = sc.parallelize(range(10))"
   ]
  },
  {
   "cell_type": "code",
   "execution_count": 3,
   "id": "e0c50d38",
   "metadata": {},
   "outputs": [
    {
     "data": {
      "text/plain": [
       "[0, 1, 2, 3, 4, 5, 6, 7, 8, 9]"
      ]
     },
     "execution_count": 3,
     "metadata": {},
     "output_type": "execute_result"
    }
   ],
   "source": [
    "# collect\n",
    "rdd.collect()"
   ]
  },
  {
   "cell_type": "code",
   "execution_count": 5,
   "id": "845013c5",
   "metadata": {},
   "outputs": [
    {
     "data": {
      "text/plain": [
       "[0, 1, 2, 3]"
      ]
     },
     "execution_count": 5,
     "metadata": {},
     "output_type": "execute_result"
    }
   ],
   "source": [
    "# take\n",
    "rdd.take(4)"
   ]
  },
  {
   "cell_type": "code",
   "execution_count": 6,
   "id": "34d0e9f9",
   "metadata": {},
   "outputs": [
    {
     "data": {
      "text/plain": [
       "0"
      ]
     },
     "execution_count": 6,
     "metadata": {},
     "output_type": "execute_result"
    }
   ],
   "source": [
    "# first\n",
    "rdd.first()"
   ]
  },
  {
   "cell_type": "code",
   "execution_count": 7,
   "id": "1c3f8d61",
   "metadata": {},
   "outputs": [
    {
     "data": {
      "text/plain": [
       "[9, 8, 7]"
      ]
     },
     "execution_count": 7,
     "metadata": {},
     "output_type": "execute_result"
    }
   ],
   "source": [
    "# top\n",
    "rdd.top(3)"
   ]
  },
  {
   "cell_type": "code",
   "execution_count": 8,
   "id": "32b309ac",
   "metadata": {},
   "outputs": [
    {
     "data": {
      "text/plain": [
       "[1, 2, 3, 4, 5]"
      ]
     },
     "execution_count": 8,
     "metadata": {},
     "output_type": "execute_result"
    }
   ],
   "source": [
    "# takeOrdered\n",
    "rdd_2 = sc.parallelize([10, 7, 6, 9, 4, 3, 5, 2, 1])\n",
    "rdd_2.takeOrdered(num=5)"
   ]
  },
  {
   "cell_type": "code",
   "execution_count": 11,
   "id": "ec300d87",
   "metadata": {},
   "outputs": [
    {
     "data": {
      "text/plain": [
       "[10, 9, 7, 6, 5]"
      ]
     },
     "execution_count": 11,
     "metadata": {},
     "output_type": "execute_result"
    }
   ],
   "source": [
    "rdd_2.takeOrdered(num=5, key=lambda x: -x)"
   ]
  },
  {
   "cell_type": "code",
   "execution_count": 12,
   "id": "2be26f9a",
   "metadata": {},
   "outputs": [
    {
     "data": {
      "text/plain": [
       "[2, 3, 7, 9, 4]"
      ]
     },
     "execution_count": 12,
     "metadata": {},
     "output_type": "execute_result"
    }
   ],
   "source": [
    "# 重复抽样；抽样数量；随机种子\n",
    "rdd_2.takeSample(False, 5, 0)"
   ]
  },
  {
   "cell_type": "code",
   "execution_count": 13,
   "id": "b8df4445",
   "metadata": {},
   "outputs": [
    {
     "data": {
      "text/plain": [
       "9"
      ]
     },
     "execution_count": 13,
     "metadata": {},
     "output_type": "execute_result"
    }
   ],
   "source": [
    "rdd_2.count()"
   ]
  },
  {
   "cell_type": "code",
   "execution_count": 14,
   "id": "beb328c8",
   "metadata": {},
   "outputs": [
    {
     "data": {
      "text/plain": [
       "(count: 9, mean: 5.222222222222222, stdev: 2.8974232912011777, max: 10.0, min: 1.0)"
      ]
     },
     "execution_count": 14,
     "metadata": {},
     "output_type": "execute_result"
    }
   ],
   "source": [
    "rdd_2.stats()"
   ]
  },
  {
   "cell_type": "code",
   "execution_count": 15,
   "id": "8ede0d0c",
   "metadata": {},
   "outputs": [],
   "source": [
    "rdd_3 = sc.parallelize(range(51))"
   ]
  },
  {
   "cell_type": "code",
   "execution_count": 16,
   "id": "dcab94e1",
   "metadata": {},
   "outputs": [
    {
     "data": {
      "text/plain": [
       "([0, 25, 50], [25, 26])"
      ]
     },
     "execution_count": 16,
     "metadata": {},
     "output_type": "execute_result"
    }
   ],
   "source": [
    "# [0, 25）->25个元素， [25,50]->26个元素\n",
    "rdd_3.histogram(2)"
   ]
  },
  {
   "cell_type": "code",
   "execution_count": 17,
   "id": "629c831a",
   "metadata": {},
   "outputs": [
    {
     "data": {
      "text/plain": [
       "([0, 10, 40, 50], [10, 30, 11])"
      ]
     },
     "execution_count": 17,
     "metadata": {},
     "output_type": "execute_result"
    }
   ],
   "source": [
    "rdd_3.histogram([0, 10, 40, 50])"
   ]
  },
  {
   "cell_type": "code",
   "execution_count": 18,
   "id": "c7f9dc82",
   "metadata": {},
   "outputs": [
    {
     "data": {
      "text/plain": [
       "45"
      ]
     },
     "execution_count": 18,
     "metadata": {},
     "output_type": "execute_result"
    }
   ],
   "source": [
    "# reduce 二元归并操作 运算的结果变为x 和 下一个y进行计算f\n",
    "rdd_4 = sc.parallelize(range(10))\n",
    "rdd_4.reduce(lambda x, y: x+y)"
   ]
  },
  {
   "cell_type": "code",
   "execution_count": 19,
   "id": "1bedfa78",
   "metadata": {},
   "outputs": [
    {
     "data": {
      "text/plain": [
       "45"
      ]
     },
     "execution_count": 19,
     "metadata": {},
     "output_type": "execute_result"
    }
   ],
   "source": [
    "# foreach\n",
    "acc = sc.accumulator(value=0)\n",
    "rdd_4.foreach(lambda x: acc.add(x))\n",
    "acc.value"
   ]
  },
  {
   "cell_type": "code",
   "execution_count": 22,
   "id": "1b1e300d",
   "metadata": {},
   "outputs": [
    {
     "data": {
      "text/plain": [
       "{'a': 1, 'b': 2, 'c': 3}"
      ]
     },
     "execution_count": 22,
     "metadata": {},
     "output_type": "execute_result"
    }
   ],
   "source": [
    "rdd_5 = sc.parallelize(((\"a\", 1), (\"b\", 2), (\"c\", 3)))\n",
    "rdd_5.collectAsMap()"
   ]
  },
  {
   "cell_type": "code",
   "execution_count": 27,
   "id": "8f812861",
   "metadata": {},
   "outputs": [],
   "source": [
    "rdd_5.saveAsTextFile('./data/output.txt')"
   ]
  },
  {
   "cell_type": "code",
   "execution_count": 28,
   "id": "0790677e",
   "metadata": {},
   "outputs": [],
   "source": [
    "rdd_6 = sc.textFile('./data/output.txt')"
   ]
  },
  {
   "cell_type": "code",
   "execution_count": 30,
   "id": "361afe51",
   "metadata": {},
   "outputs": [],
   "source": [
    "#rdd_6.collect()"
   ]
  },
  {
   "cell_type": "markdown",
   "id": "dbc0940b",
   "metadata": {},
   "source": [
    "# 变换算子"
   ]
  },
  {
   "cell_type": "code",
   "execution_count": 32,
   "id": "2c543142",
   "metadata": {},
   "outputs": [
    {
     "data": {
      "text/plain": [
       "[0, 1, 2, 3, 4, 5, 6, 7, 8, 9]"
      ]
     },
     "execution_count": 32,
     "metadata": {},
     "output_type": "execute_result"
    }
   ],
   "source": [
    "rdd_7 = sc.parallelize(range(10))\n",
    "rdd_7.collect()"
   ]
  },
  {
   "cell_type": "code",
   "execution_count": 33,
   "id": "d178001e",
   "metadata": {},
   "outputs": [
    {
     "data": {
      "text/plain": [
       "[0, 1, 4, 9, 16, 25, 36, 49, 64, 81]"
      ]
     },
     "execution_count": 33,
     "metadata": {},
     "output_type": "execute_result"
    }
   ],
   "source": [
    "# map\n",
    "rdd_7.map(lambda x: x**2).collect()"
   ]
  },
  {
   "cell_type": "code",
   "execution_count": 40,
   "id": "c6dbefe8",
   "metadata": {},
   "outputs": [
    {
     "data": {
      "text/plain": [
       "['hello world', 'hello python']"
      ]
     },
     "execution_count": 40,
     "metadata": {},
     "output_type": "execute_result"
    }
   ],
   "source": [
    "rdd_8 = sc.parallelize(['hello world', 'hello python'])\n",
    "rdd_8.collect()"
   ]
  },
  {
   "cell_type": "code",
   "execution_count": 41,
   "id": "bea1cd95",
   "metadata": {},
   "outputs": [
    {
     "data": {
      "text/plain": [
       "[['hello', 'world'], ['hello', 'python']]"
      ]
     },
     "execution_count": 41,
     "metadata": {},
     "output_type": "execute_result"
    }
   ],
   "source": [
    "rdd_8.map(lambda x: x.split(\" \")).collect()"
   ]
  },
  {
   "cell_type": "code",
   "execution_count": 42,
   "id": "06a109fa",
   "metadata": {},
   "outputs": [
    {
     "data": {
      "text/plain": [
       "['hello', 'world', 'hello', 'python']"
      ]
     },
     "execution_count": 42,
     "metadata": {},
     "output_type": "execute_result"
    }
   ],
   "source": [
    "rdd_8.flatMap(lambda x: x.split(\" \")).collect()"
   ]
  },
  {
   "cell_type": "code",
   "execution_count": 43,
   "id": "50e98b2e",
   "metadata": {},
   "outputs": [
    {
     "data": {
      "text/plain": [
       "[4, 1, 5, 2, 3]"
      ]
     },
     "execution_count": 43,
     "metadata": {},
     "output_type": "execute_result"
    }
   ],
   "source": [
    "rdd_9 = sc.parallelize([1, 1, 2, 2, 3, 3, 4, 5])\n",
    "rdd_9.distinct().collect()"
   ]
  },
  {
   "cell_type": "code",
   "execution_count": 44,
   "id": "c55a08e5",
   "metadata": {},
   "outputs": [
    {
     "data": {
      "text/plain": [
       "[(1, 'python'), (1, 'pyspark'), (2, 'python'), (2, 'pyspark')]"
      ]
     },
     "execution_count": 44,
     "metadata": {},
     "output_type": "execute_result"
    }
   ],
   "source": [
    "# cartesian笛卡尔积\n",
    "a = sc.parallelize([1,2])\n",
    "b = sc.parallelize([\"python\", \"pyspark\"])\n",
    "a.cartesian(b).collect()"
   ]
  },
  {
   "cell_type": "code",
   "execution_count": 46,
   "id": "c2f22865",
   "metadata": {},
   "outputs": [
    {
     "data": {
      "text/plain": [
       "[(4, 1, 1), (3, 2, 2), (1, 2, 3)]"
      ]
     },
     "execution_count": 46,
     "metadata": {},
     "output_type": "execute_result"
    }
   ],
   "source": [
    "# sortBy\n",
    "rdd_10 = sc.parallelize([(1, 2, 3), (3, 2, 2), (4, 1, 1)])\n",
    "rdd_10.sortBy(keyfunc=lambda x: x[2], ascending=True).collect()"
   ]
  },
  {
   "cell_type": "code",
   "execution_count": 47,
   "id": "3dae0859",
   "metadata": {},
   "outputs": [
    {
     "data": {
      "text/plain": [
       "[(1, 'python'), (2, 'pandas'), (3, 'pyspark')]"
      ]
     },
     "execution_count": 47,
     "metadata": {},
     "output_type": "execute_result"
    }
   ],
   "source": [
    "# zip\n",
    "rdd1 = sc.parallelize([1, 2, 3])\n",
    "rdd2 = sc.parallelize([\"python\", \"pandas\", \"pyspark\"])\n",
    "rdd1.zip(rdd2).collect()"
   ]
  },
  {
   "cell_type": "code",
   "execution_count": 48,
   "id": "0a7cd8c3",
   "metadata": {},
   "outputs": [
    {
     "data": {
      "text/plain": [
       "[('python', 0), ('pandas', 1), ('pyspark', 2)]"
      ]
     },
     "execution_count": 48,
     "metadata": {},
     "output_type": "execute_result"
    }
   ],
   "source": [
    "# zipWithIndex\n",
    "rdd_11 = sc.parallelize([\"python\", \"pandas\", \"pyspark\"])\n",
    "rdd_11.zipWithIndex().collect()"
   ]
  },
  {
   "cell_type": "code",
   "execution_count": null,
   "id": "2e428a3b",
   "metadata": {},
   "outputs": [],
   "source": []
  }
 ],
 "metadata": {
  "kernelspec": {
   "display_name": "Python 3 (ipykernel)",
   "language": "python",
   "name": "python3"
  },
  "language_info": {
   "codemirror_mode": {
    "name": "ipython",
    "version": 3
   },
   "file_extension": ".py",
   "mimetype": "text/x-python",
   "name": "python",
   "nbconvert_exporter": "python",
   "pygments_lexer": "ipython3",
   "version": "3.7.1"
  }
 },
 "nbformat": 4,
 "nbformat_minor": 5
}
