{
 "cells": [
  {
   "cell_type": "code",
   "execution_count": 1,
   "id": "1a8b2be6",
   "metadata": {},
   "outputs": [],
   "source": [
    "from pyspark.sql import SparkSession\n",
    "import findspark\n",
    "findspark.init()"
   ]
  },
  {
   "cell_type": "code",
   "execution_count": 2,
   "id": "3595c110",
   "metadata": {},
   "outputs": [],
   "source": [
    "spark = SparkSession.builder.\\\n",
    "        appName(\"test\").\\\n",
    "        master('local[*]').getOrCreate()\n",
    "sc = spark.sparkContext"
   ]
  },
  {
   "cell_type": "code",
   "execution_count": 6,
   "id": "124425b2",
   "metadata": {},
   "outputs": [],
   "source": [
    "rdd = sc.textFile(\"./people.txt\").map(lambda x: x.split(\", \")).\\\n",
    "        map(lambda x: (x[0], int(x[1])))"
   ]
  },
  {
   "cell_type": "markdown",
   "id": "21a49e9b",
   "metadata": {},
   "source": [
    "# 自动判别字段类型"
   ]
  },
  {
   "cell_type": "code",
   "execution_count": 8,
   "id": "9a188bfc",
   "metadata": {},
   "outputs": [],
   "source": [
    "df = spark.createDataFrame(rdd, schema=['name', 'age'])"
   ]
  },
  {
   "cell_type": "code",
   "execution_count": 9,
   "id": "fd183ef3",
   "metadata": {},
   "outputs": [
    {
     "name": "stdout",
     "output_type": "stream",
     "text": [
      "root\n",
      " |-- name: string (nullable = true)\n",
      " |-- age: long (nullable = true)\n",
      "\n"
     ]
    }
   ],
   "source": [
    "df.printSchema()"
   ]
  },
  {
   "cell_type": "code",
   "execution_count": 10,
   "id": "ce9b61fe",
   "metadata": {},
   "outputs": [
    {
     "name": "stdout",
     "output_type": "stream",
     "text": [
      "+-------+---+\n",
      "|   name|age|\n",
      "+-------+---+\n",
      "|Michael| 29|\n",
      "|   Andy| 30|\n",
      "| Justin| 16|\n",
      "+-------+---+\n",
      "\n"
     ]
    }
   ],
   "source": [
    "df.show(10)"
   ]
  },
  {
   "cell_type": "code",
   "execution_count": 11,
   "id": "4c9ced57",
   "metadata": {},
   "outputs": [],
   "source": [
    "df.createTempView('people')"
   ]
  },
  {
   "cell_type": "code",
   "execution_count": 16,
   "id": "10c5da45",
   "metadata": {},
   "outputs": [
    {
     "name": "stdout",
     "output_type": "stream",
     "text": [
      "+-------+---+\n",
      "|   name|age|\n",
      "+-------+---+\n",
      "|Michael| 29|\n",
      "| Justin| 16|\n",
      "+-------+---+\n",
      "\n"
     ]
    }
   ],
   "source": [
    "spark.sql('SELECT * FROM people WHERE age < 30').show()"
   ]
  },
  {
   "cell_type": "markdown",
   "id": "219b6c26",
   "metadata": {},
   "source": [
    "# 使用StructType构建DataFrame表"
   ]
  },
  {
   "cell_type": "code",
   "execution_count": 18,
   "id": "c24235d6",
   "metadata": {},
   "outputs": [],
   "source": [
    "from pyspark.sql.types import StructType, StringType, IntegerType"
   ]
  },
  {
   "cell_type": "code",
   "execution_count": 20,
   "id": "8fb1c172",
   "metadata": {},
   "outputs": [],
   "source": [
    "schema = StructType().add(\"name\", StringType(), True).\\\n",
    "            add(\"age\", IntegerType(), False)"
   ]
  },
  {
   "cell_type": "code",
   "execution_count": 21,
   "id": "ee9fa5ca",
   "metadata": {},
   "outputs": [],
   "source": [
    "df = spark.createDataFrame(rdd, schema=schema)"
   ]
  },
  {
   "cell_type": "code",
   "execution_count": 22,
   "id": "3d979874",
   "metadata": {},
   "outputs": [
    {
     "name": "stdout",
     "output_type": "stream",
     "text": [
      "+-------+---+\n",
      "|   name|age|\n",
      "+-------+---+\n",
      "|Michael| 29|\n",
      "|   Andy| 30|\n",
      "| Justin| 16|\n",
      "+-------+---+\n",
      "\n"
     ]
    }
   ],
   "source": [
    "df.show()"
   ]
  },
  {
   "cell_type": "code",
   "execution_count": 23,
   "id": "cc373a1b",
   "metadata": {},
   "outputs": [
    {
     "name": "stdout",
     "output_type": "stream",
     "text": [
      "root\n",
      " |-- name: string (nullable = true)\n",
      " |-- age: integer (nullable = false)\n",
      "\n"
     ]
    }
   ],
   "source": [
    "df.printSchema()"
   ]
  },
  {
   "cell_type": "markdown",
   "id": "21ad0db9",
   "metadata": {},
   "source": [
    "# 使用RDD的toDF方法转换"
   ]
  },
  {
   "cell_type": "code",
   "execution_count": 26,
   "id": "b29b18b5",
   "metadata": {},
   "outputs": [],
   "source": [
    "df = rdd.toDF(schema=schema)"
   ]
  },
  {
   "cell_type": "code",
   "execution_count": 27,
   "id": "4c58c685",
   "metadata": {},
   "outputs": [
    {
     "name": "stdout",
     "output_type": "stream",
     "text": [
      "+-------+---+\n",
      "|   name|age|\n",
      "+-------+---+\n",
      "|Michael| 29|\n",
      "|   Andy| 30|\n",
      "| Justin| 16|\n",
      "+-------+---+\n",
      "\n"
     ]
    }
   ],
   "source": [
    "df.show()"
   ]
  },
  {
   "cell_type": "markdown",
   "id": "5d0d6354",
   "metadata": {},
   "source": [
    "# 源数据来自于Pandas的DataFrame"
   ]
  },
  {
   "cell_type": "code",
   "execution_count": 28,
   "id": "9c40d838",
   "metadata": {},
   "outputs": [],
   "source": [
    "import pandas as pd"
   ]
  },
  {
   "cell_type": "code",
   "execution_count": 31,
   "id": "86a2299a",
   "metadata": {},
   "outputs": [],
   "source": [
    "df_pd = pd.DataFrame({\n",
    "    \"id\": [1, 2, 3],\n",
    "    \"name\": ['Jack', 'Justin', 'Ala'],\n",
    "    \"age\": [11, 13 ,14]\n",
    "})"
   ]
  },
  {
   "cell_type": "code",
   "execution_count": 34,
   "id": "7003b044",
   "metadata": {},
   "outputs": [],
   "source": [
    "df = spark.createDataFrame(df_pd, schema=['id', 'name', 'age'])"
   ]
  },
  {
   "cell_type": "code",
   "execution_count": 35,
   "id": "25bcea64",
   "metadata": {},
   "outputs": [
    {
     "name": "stdout",
     "output_type": "stream",
     "text": [
      "+---+------+---+\n",
      "| id|  name|age|\n",
      "+---+------+---+\n",
      "|  1|  Jack| 11|\n",
      "|  2|Justin| 13|\n",
      "|  3|   Ala| 14|\n",
      "+---+------+---+\n",
      "\n"
     ]
    }
   ],
   "source": [
    "df.show()"
   ]
  },
  {
   "cell_type": "markdown",
   "id": "1036f68f",
   "metadata": {},
   "source": [
    "# 统一API从文件读取"
   ]
  },
  {
   "cell_type": "code",
   "execution_count": 49,
   "id": "b19d2298",
   "metadata": {},
   "outputs": [],
   "source": [
    "schema = StructType().add(\"value\", StringType(), True) # text文件\n",
    "df = spark.read.format(\"text\").schema(schema=schema).load(\"./people.txt\")"
   ]
  },
  {
   "cell_type": "code",
   "execution_count": 50,
   "id": "9a05853e",
   "metadata": {},
   "outputs": [
    {
     "name": "stdout",
     "output_type": "stream",
     "text": [
      "+-----------+\n",
      "|      value|\n",
      "+-----------+\n",
      "|Michael, 29|\n",
      "|   Andy, 30|\n",
      "| Justin, 16|\n",
      "+-----------+\n",
      "\n"
     ]
    }
   ],
   "source": [
    "df.show()"
   ]
  },
  {
   "cell_type": "code",
   "execution_count": 51,
   "id": "79edcf66",
   "metadata": {},
   "outputs": [
    {
     "name": "stdout",
     "output_type": "stream",
     "text": [
      "root\n",
      " |-- age: long (nullable = true)\n",
      " |-- name: string (nullable = true)\n",
      "\n",
      "+----+-------+\n",
      "| age|   name|\n",
      "+----+-------+\n",
      "|null|Michael|\n",
      "|  14|   Mike|\n",
      "|  18|   Mike|\n",
      "+----+-------+\n",
      "\n"
     ]
    }
   ],
   "source": [
    "df = spark.read.format(\"json\").load(\"./people.json\")  # json文件\n",
    "df.printSchema()\n",
    "df.show()"
   ]
  },
  {
   "cell_type": "code",
   "execution_count": 52,
   "id": "1cd974c5",
   "metadata": {},
   "outputs": [],
   "source": [
    "schema = StructType().add(\"name\", StringType(), True).\\\n",
    "            add(\"age\", IntegerType(), False).add(\"job\", StringType(), False)\n",
    "df = spark.read.format(\"csv\").option(\"sep\", \";\").\\\n",
    "    option(\"header\", True).option(\"encoding\", \"utf-8\").\\\n",
    "    schema(schema).load(\"./people.csv\")"
   ]
  },
  {
   "cell_type": "code",
   "execution_count": 53,
   "id": "8383695f",
   "metadata": {},
   "outputs": [
    {
     "name": "stdout",
     "output_type": "stream",
     "text": [
      "+-----+---+---------+\n",
      "| name|age|      job|\n",
      "+-----+---+---------+\n",
      "|Jorge| 30|Developer|\n",
      "|  Bob| 32|  Manager|\n",
      "|Alice|  9|Developer|\n",
      "+-----+---+---------+\n",
      "\n"
     ]
    }
   ],
   "source": [
    "df.show()"
   ]
  },
  {
   "cell_type": "markdown",
   "id": "2b39dc75",
   "metadata": {},
   "source": [
    "# DataFrame编程：DSL和SQL风格"
   ]
  },
  {
   "cell_type": "code",
   "execution_count": 54,
   "id": "e80fab29",
   "metadata": {},
   "outputs": [
    {
     "name": "stdout",
     "output_type": "stream",
     "text": [
      "+-----+---+---------+\n",
      "| name|age|      job|\n",
      "+-----+---+---------+\n",
      "|Jorge| 30|Developer|\n",
      "|  Bob| 32|  Manager|\n",
      "|Alice|  9|Developer|\n",
      "+-----+---+---------+\n",
      "\n"
     ]
    }
   ],
   "source": [
    "df.show()"
   ]
  },
  {
   "cell_type": "code",
   "execution_count": 57,
   "id": "b6f5f572",
   "metadata": {},
   "outputs": [
    {
     "name": "stdout",
     "output_type": "stream",
     "text": [
      "+-----+---+\n",
      "| name|age|\n",
      "+-----+---+\n",
      "|Jorge| 30|\n",
      "|  Bob| 32|\n",
      "|Alice|  9|\n",
      "+-----+---+\n",
      "\n"
     ]
    }
   ],
   "source": [
    "df.select([\"name\", \"age\"]).show()"
   ]
  },
  {
   "cell_type": "code",
   "execution_count": 58,
   "id": "90267d00",
   "metadata": {},
   "outputs": [
    {
     "name": "stdout",
     "output_type": "stream",
     "text": [
      "+-----+---+---------+\n",
      "| name|age|      job|\n",
      "+-----+---+---------+\n",
      "|Jorge| 30|Developer|\n",
      "|Alice|  9|Developer|\n",
      "+-----+---+---------+\n",
      "\n"
     ]
    }
   ],
   "source": [
    "df.filter(\"age < 31\").show()"
   ]
  },
  {
   "cell_type": "code",
   "execution_count": 60,
   "id": "9891b05e",
   "metadata": {},
   "outputs": [
    {
     "name": "stdout",
     "output_type": "stream",
     "text": [
      "+-----+---+---------+\n",
      "| name|age|      job|\n",
      "+-----+---+---------+\n",
      "|Jorge| 30|Developer|\n",
      "|Alice|  9|Developer|\n",
      "+-----+---+---------+\n",
      "\n"
     ]
    }
   ],
   "source": [
    "df.filter(df['age'] < 31).show()"
   ]
  },
  {
   "cell_type": "code",
   "execution_count": 65,
   "id": "2e50accc",
   "metadata": {},
   "outputs": [
    {
     "name": "stdout",
     "output_type": "stream",
     "text": [
      "+-----+-----+\n",
      "| name|count|\n",
      "+-----+-----+\n",
      "|  Bob|    1|\n",
      "|Jorge|    1|\n",
      "|Alice|    1|\n",
      "+-----+-----+\n",
      "\n"
     ]
    }
   ],
   "source": [
    "df.groupBy(df['name']).count().show() # groupBy的返回值是GroupData类型\n",
    "# GroupData类型：有分组关系的数据结构\n",
    "# 接上聚合函数API：sum, avg, count, min, max\n",
    "# 通过聚合函数后返回的是DataFrame"
   ]
  },
  {
   "cell_type": "code",
   "execution_count": null,
   "id": "65947b6a",
   "metadata": {},
   "outputs": [],
   "source": []
  },
  {
   "cell_type": "code",
   "execution_count": null,
   "id": "9c86e7ab",
   "metadata": {},
   "outputs": [],
   "source": []
  },
  {
   "cell_type": "code",
   "execution_count": null,
   "id": "737f993c",
   "metadata": {},
   "outputs": [],
   "source": []
  },
  {
   "cell_type": "code",
   "execution_count": null,
   "id": "d67ccae4",
   "metadata": {},
   "outputs": [],
   "source": []
  },
  {
   "cell_type": "code",
   "execution_count": null,
   "id": "123ccfea",
   "metadata": {},
   "outputs": [],
   "source": []
  },
  {
   "cell_type": "code",
   "execution_count": null,
   "id": "183919c8",
   "metadata": {},
   "outputs": [],
   "source": []
  },
  {
   "cell_type": "code",
   "execution_count": null,
   "id": "fa4a8016",
   "metadata": {},
   "outputs": [],
   "source": []
  },
  {
   "cell_type": "code",
   "execution_count": null,
   "id": "bb9df52a",
   "metadata": {},
   "outputs": [],
   "source": []
  }
 ],
 "metadata": {
  "kernelspec": {
   "display_name": "Python 3 (ipykernel)",
   "language": "python",
   "name": "python3"
  },
  "language_info": {
   "codemirror_mode": {
    "name": "ipython",
    "version": 3
   },
   "file_extension": ".py",
   "mimetype": "text/x-python",
   "name": "python",
   "nbconvert_exporter": "python",
   "pygments_lexer": "ipython3",
   "version": "3.7.1"
  }
 },
 "nbformat": 4,
 "nbformat_minor": 5
}
